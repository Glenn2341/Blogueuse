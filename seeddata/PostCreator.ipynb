{
 "cells": [
  {
   "cell_type": "code",
   "execution_count": 945,
   "id": "3fe6c69e",
   "metadata": {},
   "outputs": [],
   "source": [
    "from enum import Enum"
   ]
  },
  {
   "cell_type": "code",
   "execution_count": 946,
   "id": "3cf831bc",
   "metadata": {},
   "outputs": [],
   "source": [
    "import json"
   ]
  },
  {
   "cell_type": "code",
   "execution_count": 947,
   "id": "b25434e3",
   "metadata": {},
   "outputs": [],
   "source": [
    "import datetime\n",
    "import time"
   ]
  },
  {
   "cell_type": "code",
   "execution_count": 948,
   "id": "1019baa7",
   "metadata": {},
   "outputs": [],
   "source": [
    "class Post:\n",
    "    def __init__(self, authorid, id, title, author, tags, preview, content, comments, created_utc):\n",
    "        self.authorid = authorid\n",
    "        self.id = id\n",
    "        self.title = title\n",
    "        self.author = author\n",
    "        self.tags = tags\n",
    "        self.preview = preview\n",
    "        self.content = content\n",
    "        self.comments = comments  # This should now be a list of Comment objects\n",
    "        self.created_utc = created_utc\n",
    "\n",
    "    def to_dict(self):\n",
    "        return {\n",
    "            'authorid': self.authorid,\n",
    "            'id': self.id,\n",
    "            'title': self.title,\n",
    "            'author': self.author,\n",
    "            'tags': self.tags,           #[tag.name for tag in self.tags],  # Convert Tag objects to strings\n",
    "            'preview': self.preview,\n",
    "            'content': self.content,\n",
    "            'comments': [comment.to_dict() for comment in self.comments],\n",
    "            'created_utc': int(self.created_utc.timestamp())\n",
    "        }\n"
   ]
  },
  {
   "cell_type": "code",
   "execution_count": 949,
   "id": "83f442ac",
   "metadata": {},
   "outputs": [],
   "source": [
    "class Comment:\n",
    "    def __init__(self, postid, id, author, content, created_utc):\n",
    "        self.postid = postid\n",
    "        self.id = id\n",
    "        self.author = author\n",
    "        self.content = content\n",
    "        self.created_utc = created_utc\n",
    "\n",
    "    def to_dict(self):\n",
    "        return {\n",
    "            'postid': self.postid,\n",
    "            'id': self.id,\n",
    "            'author': self.author,\n",
    "            'content': self.content,\n",
    "            'created_utc': int(self.created_utc.timestamp())\n",
    "        }"
   ]
  },
  {
   "cell_type": "code",
   "execution_count": 950,
   "id": "edbfc4e4",
   "metadata": {},
   "outputs": [],
   "source": [
    "class Author:\n",
    "    def __init__(self, id, name, role, bio):\n",
    "        self.id = id\n",
    "        self.name = name\n",
    "        self.role = role\n",
    "        self.bio = bio\n",
    "        \n",
    "    def to_dict(self):\n",
    "        return {\n",
    "            'id': self.id,\n",
    "            'name': self.name,\n",
    "            'role': self.role,\n",
    "            'bio': self.bio\n",
    "        }\n",
    "    \n",
    "    @classmethod\n",
    "    def from_dict(cls, data):\n",
    "        return cls(data['id'], data['name'], data['role'], data['bio'])"
   ]
  },
  {
   "cell_type": "code",
   "execution_count": 951,
   "id": "8c6047c7",
   "metadata": {},
   "outputs": [],
   "source": [
    "class Tag:\n",
    "    def __init__(self, id, name):\n",
    "        self.id = id\n",
    "        self.name = name\n",
    "        \n",
    "    def to_dict(self):\n",
    "        return {\n",
    "            'id': self.id,\n",
    "            'name': self.name\n",
    "        }"
   ]
  },
  {
   "cell_type": "code",
   "execution_count": 952,
   "id": "b266d9d4",
   "metadata": {},
   "outputs": [],
   "source": [
    "class PostTag:\n",
    "    def __init__(self, postid, tagid):\n",
    "        self.postid = postid\n",
    "        self.tagid = tagid\n",
    "        \n",
    "    def to_dict(self):\n",
    "        return {\n",
    "            'postid': self.postid,\n",
    "            'tagid': self.tagid\n",
    "        }"
   ]
  },
  {
   "cell_type": "code",
   "execution_count": 953,
   "id": "c976297d",
   "metadata": {},
   "outputs": [],
   "source": [
    "posttags = []"
   ]
  },
  {
   "cell_type": "code",
   "execution_count": 954,
   "id": "3ea08a6b",
   "metadata": {},
   "outputs": [],
   "source": [
    "Yoga = Tag(1, 'Yoga')"
   ]
  },
  {
   "cell_type": "code",
   "execution_count": 955,
   "id": "97fe7996",
   "metadata": {},
   "outputs": [],
   "source": [
    "Spiritual = Tag(2, 'Spiritual')"
   ]
  },
  {
   "cell_type": "code",
   "execution_count": 956,
   "id": "51fa1538",
   "metadata": {},
   "outputs": [],
   "source": [
    "Travel = Tag(3, 'Travel')"
   ]
  },
  {
   "cell_type": "code",
   "execution_count": 957,
   "id": "4f548fe9",
   "metadata": {},
   "outputs": [],
   "source": [
    "Food = Tag(4, 'Food')"
   ]
  },
  {
   "cell_type": "code",
   "execution_count": 958,
   "id": "ebc4aa65",
   "metadata": {},
   "outputs": [],
   "source": [
    "Productivity = Tag(5, 'Productivity')"
   ]
  },
  {
   "cell_type": "code",
   "execution_count": 959,
   "id": "b0c811d9",
   "metadata": {},
   "outputs": [],
   "source": [
    "Games = Tag(6, 'Games')"
   ]
  },
  {
   "cell_type": "code",
   "execution_count": 960,
   "id": "681c00ad",
   "metadata": {},
   "outputs": [],
   "source": [
    "Career = Tag(7, 'Career')"
   ]
  },
  {
   "cell_type": "code",
   "execution_count": 961,
   "id": "3348cefd",
   "metadata": {},
   "outputs": [],
   "source": [
    "Gardening = Tag(8, 'Gardening')"
   ]
  },
  {
   "cell_type": "code",
   "execution_count": 962,
   "id": "ed07751e",
   "metadata": {},
   "outputs": [],
   "source": [
    "#Environmentalism = Tag(9, 'Environmentalism')"
   ]
  },
  {
   "cell_type": "code",
   "execution_count": 963,
   "id": "1f08f99b",
   "metadata": {},
   "outputs": [],
   "source": [
    "Astrology = Tag(10, 'Astrology')"
   ]
  },
  {
   "cell_type": "code",
   "execution_count": 964,
   "id": "0cbdd94c",
   "metadata": {},
   "outputs": [],
   "source": [
    "Advice = Tag(11, 'Advice')"
   ]
  },
  {
   "cell_type": "code",
   "execution_count": 965,
   "id": "1f8b711f",
   "metadata": {},
   "outputs": [],
   "source": [
    "tags = Yoga, Spiritual, Travel, Food, Productivity, Games, Career, Gardening, Astrology, Advice"
   ]
  },
  {
   "cell_type": "code",
   "execution_count": 966,
   "id": "217783e0",
   "metadata": {},
   "outputs": [],
   "source": [
    "#Write tags to json"
   ]
  },
  {
   "cell_type": "code",
   "execution_count": 967,
   "id": "49b7a71a",
   "metadata": {},
   "outputs": [],
   "source": [
    "with open(\"tags.json\", \"w\") as file:\n",
    "    json.dump([tag.to_dict() for tag in tags], file)"
   ]
  },
  {
   "cell_type": "code",
   "execution_count": 968,
   "id": "1a446c52",
   "metadata": {},
   "outputs": [],
   "source": [
    "#Read tags from json\n"
   ]
  },
  {
   "cell_type": "code",
   "execution_count": 969,
   "id": "b8f160f1",
   "metadata": {},
   "outputs": [],
   "source": [
    "#Read the data back\n",
    "with open('tags.json', 'r') as file:\n",
    "    tags_data = json.load(file)"
   ]
  },
  {
   "cell_type": "code",
   "execution_count": 970,
   "id": "44c0da7f",
   "metadata": {},
   "outputs": [],
   "source": [
    "# Convert the list of tags back to tag\n",
    "alltagslist = []\n",
    "for tag_data in tags_data:\n",
    "    tag = Tag(tag_data['id'], tag_data['name'])\n",
    "    alltagslist.append(tag)"
   ]
  },
  {
   "cell_type": "code",
   "execution_count": null,
   "id": "61452be4",
   "metadata": {},
   "outputs": [],
   "source": []
  },
  {
   "cell_type": "code",
   "execution_count": null,
   "id": "470fde58",
   "metadata": {},
   "outputs": [],
   "source": []
  },
  {
   "cell_type": "code",
   "execution_count": 971,
   "id": "42160b74",
   "metadata": {},
   "outputs": [],
   "source": [
    "# class Tag(Enum):\n",
    "#     YOGA = 1\n",
    "#     SPIRITUAL = 2\n",
    "#     TRAVEL = 3\n",
    "#     FOOD = 4\n",
    "#     PRODUCTIVITY = 5\n",
    "#     GAMES = 6\n",
    "#     CAREER = 7\n",
    "#     GARDENING = 8\n",
    "#     ENVIRONMENTALISM = 9\n",
    "#     ASTROLOGY = 10\n",
    "#     ADVICE = 11"
   ]
  },
  {
   "cell_type": "code",
   "execution_count": null,
   "id": "de956f42",
   "metadata": {},
   "outputs": [],
   "source": []
  },
  {
   "cell_type": "code",
   "execution_count": 972,
   "id": "500e53d6",
   "metadata": {},
   "outputs": [],
   "source": [
    "#DEFINE BASE TIME\n",
    "basetime = datetime.datetime(2023, 3, 29, 0, 0, 0, tzinfo=datetime.timezone.utc)"
   ]
  },
  {
   "cell_type": "code",
   "execution_count": null,
   "id": "84412982",
   "metadata": {},
   "outputs": [],
   "source": []
  },
  {
   "cell_type": "code",
   "execution_count": 973,
   "id": "bbf32f09",
   "metadata": {},
   "outputs": [],
   "source": [
    "#DEFINE THE AUTHORS"
   ]
  },
  {
   "cell_type": "code",
   "execution_count": 974,
   "id": "9c8942dd",
   "metadata": {},
   "outputs": [],
   "source": [
    "# My Trip to Paris, by Sarah Lane\n",
    "# The Many Benefits of Yoga: Why You Should Start Practicing Today, by Sarah Lane\n",
    "# Why I Switched to a Plant-Based Diet, by Sarah Lane\n",
    "# How can I relate to my husband's gaming hobby?, by Sarah Lane\n",
    "\n",
    "# based on these, please write a 3-sentence bio for this contributor that will appear in the 'meet the team' page"
   ]
  },
  {
   "cell_type": "code",
   "execution_count": 975,
   "id": "1a37f929",
   "metadata": {},
   "outputs": [],
   "source": [
    "name = 'Sarah Lane'"
   ]
  },
  {
   "cell_type": "code",
   "execution_count": 976,
   "id": "4d6b984c",
   "metadata": {},
   "outputs": [],
   "source": [
    "role = 'Contributing Editor'"
   ]
  },
  {
   "cell_type": "code",
   "execution_count": 977,
   "id": "0378fec0",
   "metadata": {},
   "outputs": [],
   "source": [
    "bio = '''\n",
    "Sarah Lane is a multifaceted writer who covers a diverse range of topics, from travel and lifestyle to health and wellness. With a passion for exploring new experiences and challenging the status quo, Sarah brings a fresh perspective to her writing that inspires readers to embrace new possibilities and live their best lives. Whether she's sharing her travel adventures or advocating for healthy living, Sarah's writing is always informative, engaging, and thought-provoking.\n",
    "'''"
   ]
  },
  {
   "cell_type": "code",
   "execution_count": 978,
   "id": "9cb70153",
   "metadata": {},
   "outputs": [],
   "source": [
    "SarahLane = Author(1, name, role, bio)"
   ]
  },
  {
   "cell_type": "code",
   "execution_count": null,
   "id": "c3f03c90",
   "metadata": {},
   "outputs": [],
   "source": []
  },
  {
   "cell_type": "code",
   "execution_count": 979,
   "id": "6778db3a",
   "metadata": {},
   "outputs": [],
   "source": [
    "name = 'Scott Dyker'"
   ]
  },
  {
   "cell_type": "code",
   "execution_count": 980,
   "id": "4d51de83",
   "metadata": {},
   "outputs": [],
   "source": [
    "role = 'Contributor'"
   ]
  },
  {
   "cell_type": "code",
   "execution_count": 981,
   "id": "fd987c48",
   "metadata": {},
   "outputs": [],
   "source": [
    "bio = '''\n",
    "Scott Dyker is a passionate writer and researcher focused on exploring the mysteries of the metaphysical realm. His in-depth articles on energy crystals and astral projection demonstrate his keen interest in separating fact from fiction within these esoteric subjects. With a commitment to uncovering the truth and sharing his findings, Scott is a valuable contributor to our team, bringing both curiosity and expertise to our readers.\n",
    "'''"
   ]
  },
  {
   "cell_type": "code",
   "execution_count": 982,
   "id": "35ab3d5b",
   "metadata": {},
   "outputs": [],
   "source": [
    "ScottDyker = Author(2, name, role, bio)"
   ]
  },
  {
   "cell_type": "code",
   "execution_count": null,
   "id": "a8d75ed6",
   "metadata": {},
   "outputs": [],
   "source": []
  },
  {
   "cell_type": "code",
   "execution_count": 983,
   "id": "615b6004",
   "metadata": {},
   "outputs": [],
   "source": [
    "name = 'Amanda Debbing'"
   ]
  },
  {
   "cell_type": "code",
   "execution_count": 984,
   "id": "3137a073",
   "metadata": {},
   "outputs": [],
   "source": [
    "role = 'Contributor'"
   ]
  },
  {
   "cell_type": "code",
   "execution_count": 985,
   "id": "293c7b28",
   "metadata": {},
   "outputs": [],
   "source": [
    "bio = '''\n",
    "Amanda Debbing is a dedicated writer and spiritual enthusiast with a deep interest in the metaphysical world, particularly astral projection and energy crystals. Her insightful articles and interviews with renowned specialists provide readers with invaluable knowledge and guidance on navigating these mystical realms. As a vital member of our team, Amanda's work resonates with those seeking to enhance their spiritual journey and elevate their understanding of the unseen dimensions of existence.\n",
    "'''"
   ]
  },
  {
   "cell_type": "code",
   "execution_count": 986,
   "id": "7ba59c30",
   "metadata": {},
   "outputs": [],
   "source": [
    "AmandaDebbing = Author(3, name, role, bio)"
   ]
  },
  {
   "cell_type": "code",
   "execution_count": null,
   "id": "269aa0ac",
   "metadata": {},
   "outputs": [],
   "source": []
  },
  {
   "cell_type": "code",
   "execution_count": 987,
   "id": "38db4369",
   "metadata": {},
   "outputs": [],
   "source": [
    "name = 'Mara Khan'"
   ]
  },
  {
   "cell_type": "code",
   "execution_count": 988,
   "id": "615cc3ec",
   "metadata": {},
   "outputs": [],
   "source": [
    "role = 'Contributor'"
   ]
  },
  {
   "cell_type": "code",
   "execution_count": 989,
   "id": "7c888283",
   "metadata": {},
   "outputs": [],
   "source": [
    "bio = '''\n",
    "Mara Khan is a versatile writer who brings a unique perspective to a variety of topics, from productivity to the world of gaming. Her engaging articles provide practical advice on achieving a productive workday while also highlighting the simple pleasures found in popular games like Animal Crossing. A valuable member of our team, Mara's ability to connect with readers across different interests showcases her passion for sharing knowledge and exploring the diverse facets of modern life.\n",
    "'''"
   ]
  },
  {
   "cell_type": "code",
   "execution_count": 990,
   "id": "aa87a734",
   "metadata": {},
   "outputs": [],
   "source": [
    "MaraKhan = Author(4, name, role, bio)"
   ]
  },
  {
   "cell_type": "code",
   "execution_count": null,
   "id": "426dc173",
   "metadata": {},
   "outputs": [],
   "source": []
  },
  {
   "cell_type": "code",
   "execution_count": 991,
   "id": "0cc7b439",
   "metadata": {},
   "outputs": [],
   "source": [
    "name = 'Dohn Joe'"
   ]
  },
  {
   "cell_type": "code",
   "execution_count": 992,
   "id": "ae8677b3",
   "metadata": {},
   "outputs": [],
   "source": [
    "role = 'Contributor'"
   ]
  },
  {
   "cell_type": "code",
   "execution_count": 993,
   "id": "13b8b966",
   "metadata": {},
   "outputs": [],
   "source": [
    "bio = '''\n",
    "Dohn Joe is an enthusiastic writer with a keen interest in sharing practical knowledge and insights, as showcased in his comprehensive guide on becoming a successful dog walker. With a passion for exploring niche topics and providing valuable advice, Dohn's work is a testament to his commitment to empowering readers. As a valuable contributor to our team, Dohn's diverse writing style and dedication to helping others make him a unique asset to our community of readers.\n",
    "'''"
   ]
  },
  {
   "cell_type": "code",
   "execution_count": 994,
   "id": "f30e2c02",
   "metadata": {},
   "outputs": [],
   "source": [
    "DohnJoe = Author(5, name, role, bio)"
   ]
  },
  {
   "cell_type": "code",
   "execution_count": null,
   "id": "27a00d5f",
   "metadata": {},
   "outputs": [],
   "source": []
  },
  {
   "cell_type": "code",
   "execution_count": 995,
   "id": "8c59d007",
   "metadata": {},
   "outputs": [],
   "source": [
    "name = 'Jane Kawra'"
   ]
  },
  {
   "cell_type": "code",
   "execution_count": 996,
   "id": "e4ac80d7",
   "metadata": {},
   "outputs": [],
   "source": [
    "role = 'Founder'"
   ]
  },
  {
   "cell_type": "code",
   "execution_count": 997,
   "id": "d010bc12",
   "metadata": {},
   "outputs": [],
   "source": [
    "bio = '''\n",
    "Jane Kawra is a talented writer with a passion for urban gardening and sustainable living. Her insightful articles on transforming small spaces into lush green oases demonstrate her dedication to nurturing a greener world, even in the most urban environments. As a valuable member of our team, Jane's expertise and ability to inspire readers to embrace urban gardening make her a cherished contributor and a champion for eco-friendly lifestyles.\n",
    "'''"
   ]
  },
  {
   "cell_type": "code",
   "execution_count": 998,
   "id": "13c0b2f0",
   "metadata": {},
   "outputs": [],
   "source": [
    "JaneKawra = Author(6, name, role, bio)"
   ]
  },
  {
   "cell_type": "code",
   "execution_count": null,
   "id": "a9b5cb44",
   "metadata": {},
   "outputs": [],
   "source": []
  },
  {
   "cell_type": "code",
   "execution_count": 999,
   "id": "699ea6a1",
   "metadata": {},
   "outputs": [],
   "source": [
    "name = 'Ana Astra'"
   ]
  },
  {
   "cell_type": "code",
   "execution_count": 1000,
   "id": "7ea2af8e",
   "metadata": {},
   "outputs": [],
   "source": [
    "role = 'Contributor'"
   ]
  },
  {
   "cell_type": "code",
   "execution_count": 1001,
   "id": "ad4b7cba",
   "metadata": {},
   "outputs": [],
   "source": [
    "bio = '''\n",
    "Ana Astra is a gifted writer with a fascination for astrology and the stories that unfold within the celestial realm. Her captivating articles on the enigmatic world of zodiac signs, such as Cancer and Gemini, reveal her expertise in weaving together astronomy, mythology, and history. As a cherished member of our team, Ana's ability to engage readers with her compelling storytelling and deep understanding of astrology makes her an essential voice for those seeking insight into the cosmos.\n",
    "'''"
   ]
  },
  {
   "cell_type": "code",
   "execution_count": 1002,
   "id": "a4df5a86",
   "metadata": {},
   "outputs": [],
   "source": [
    "AnaAstra = Author(7, name, role, bio)"
   ]
  },
  {
   "cell_type": "code",
   "execution_count": null,
   "id": "9fe91587",
   "metadata": {},
   "outputs": [],
   "source": []
  },
  {
   "cell_type": "code",
   "execution_count": 1003,
   "id": "0d20eef7",
   "metadata": {},
   "outputs": [],
   "source": [
    "authors = SarahLane, ScottDyker, AmandaDebbing, MaraKhan, DohnJoe, JaneKawra, AnaAstra"
   ]
  },
  {
   "cell_type": "code",
   "execution_count": 1004,
   "id": "99267865",
   "metadata": {},
   "outputs": [
    {
     "name": "stdout",
     "output_type": "stream",
     "text": [
      "Sarah Lane, Contributing Editor\n",
      "Scott Dyker, Contributor\n",
      "Amanda Debbing, Contributor\n",
      "Mara Khan, Contributor\n",
      "Dohn Joe, Contributor\n",
      "Jane Kawra, Founder\n",
      "Ana Astra, Contributor\n"
     ]
    }
   ],
   "source": [
    "for author in authors:\n",
    "    print(f'{author.name}, {author.role}')"
   ]
  },
  {
   "cell_type": "code",
   "execution_count": 1005,
   "id": "3bf6f645",
   "metadata": {},
   "outputs": [],
   "source": [
    "# WRITE AUTHORS TO JSON\n",
    "with open(\"authors.json\", \"w\") as file:\n",
    "    json.dump([author.to_dict() for author in authors], file)"
   ]
  },
  {
   "cell_type": "code",
   "execution_count": 1006,
   "id": "4cffd3f6",
   "metadata": {},
   "outputs": [],
   "source": [
    "#READ AUTHORS FROM JSON\n",
    "def load_authors_from_file(file_path):\n",
    "    with open(file_path, 'r') as file:\n",
    "        author_dicts = json.load(file)\n",
    "    return [Author.from_dict(author_dict) for author_dict in author_dicts]"
   ]
  },
  {
   "cell_type": "code",
   "execution_count": 1007,
   "id": "3badd7fc",
   "metadata": {},
   "outputs": [],
   "source": [
    "result = load_authors_from_file('authors.json')"
   ]
  },
  {
   "cell_type": "code",
   "execution_count": 1008,
   "id": "09f3f325",
   "metadata": {},
   "outputs": [
    {
     "name": "stdout",
     "output_type": "stream",
     "text": [
      "Sarah Lane, Contributing Editor\n",
      "Scott Dyker, Contributor\n",
      "Amanda Debbing, Contributor\n",
      "Mara Khan, Contributor\n",
      "Dohn Joe, Contributor\n",
      "Jane Kawra, Founder\n",
      "Ana Astra, Contributor\n"
     ]
    }
   ],
   "source": [
    "for author in result:\n",
    "    print(f'{author.name}, {author.role}')"
   ]
  },
  {
   "cell_type": "code",
   "execution_count": null,
   "id": "4b38620c",
   "metadata": {},
   "outputs": [],
   "source": []
  },
  {
   "cell_type": "code",
   "execution_count": null,
   "id": "19ef8283",
   "metadata": {},
   "outputs": [],
   "source": []
  },
  {
   "cell_type": "code",
   "execution_count": 1009,
   "id": "e83721dc",
   "metadata": {},
   "outputs": [],
   "source": [
    "#1679875200"
   ]
  },
  {
   "cell_type": "code",
   "execution_count": 1010,
   "id": "488c8fc5",
   "metadata": {},
   "outputs": [
    {
     "data": {
      "text/plain": [
       "datetime.datetime(2023, 3, 29, 0, 0, tzinfo=datetime.timezone.utc)"
      ]
     },
     "execution_count": 1010,
     "metadata": {},
     "output_type": "execute_result"
    }
   ],
   "source": [
    "basetime"
   ]
  },
  {
   "cell_type": "code",
   "execution_count": 1011,
   "id": "2ab5cbeb",
   "metadata": {},
   "outputs": [
    {
     "data": {
      "text/plain": [
       "1680048000"
      ]
     },
     "execution_count": 1011,
     "metadata": {},
     "output_type": "execute_result"
    }
   ],
   "source": [
    "int(basetime.timestamp())"
   ]
  },
  {
   "cell_type": "code",
   "execution_count": 1012,
   "id": "1137850c",
   "metadata": {},
   "outputs": [
    {
     "data": {
      "text/plain": [
       "1679875200"
      ]
     },
     "execution_count": 1012,
     "metadata": {},
     "output_type": "execute_result"
    }
   ],
   "source": [
    "created_utc = basetime - datetime.timedelta(days=2)\n",
    "int(created_utc.timestamp())"
   ]
  },
  {
   "cell_type": "code",
   "execution_count": 1013,
   "id": "7248b070",
   "metadata": {},
   "outputs": [
    {
     "data": {
      "text/plain": [
       "1679788800"
      ]
     },
     "execution_count": 1013,
     "metadata": {},
     "output_type": "execute_result"
    }
   ],
   "source": [
    "created_utc = basetime - datetime.timedelta(days=3)\n",
    "int(created_utc.timestamp())"
   ]
  },
  {
   "cell_type": "code",
   "execution_count": null,
   "id": "8f6a3507",
   "metadata": {},
   "outputs": [],
   "source": []
  },
  {
   "cell_type": "code",
   "execution_count": null,
   "id": "828e0598",
   "metadata": {},
   "outputs": [],
   "source": []
  },
  {
   "cell_type": "code",
   "execution_count": null,
   "id": "c6574b30",
   "metadata": {},
   "outputs": [],
   "source": []
  },
  {
   "cell_type": "code",
   "execution_count": null,
   "id": "221b7757",
   "metadata": {},
   "outputs": [],
   "source": []
  },
  {
   "cell_type": "code",
   "execution_count": null,
   "id": "28e2862b",
   "metadata": {},
   "outputs": [],
   "source": []
  },
  {
   "cell_type": "code",
   "execution_count": null,
   "id": "13267500",
   "metadata": {},
   "outputs": [],
   "source": []
  },
  {
   "cell_type": "code",
   "execution_count": null,
   "id": "18cecfea",
   "metadata": {},
   "outputs": [],
   "source": []
  },
  {
   "cell_type": "code",
   "execution_count": 1014,
   "id": "d1dc7c4a",
   "metadata": {},
   "outputs": [],
   "source": [
    "title = 'The Incredible Powers of Astral Projection: Unlocking the Secrets of the Universe'"
   ]
  },
  {
   "cell_type": "code",
   "execution_count": 1015,
   "id": "fd89e6e9",
   "metadata": {},
   "outputs": [],
   "source": [
    "author = ScottDyker.name"
   ]
  },
  {
   "cell_type": "code",
   "execution_count": 1016,
   "id": "f3079991",
   "metadata": {},
   "outputs": [],
   "source": [
    "tags = [Spiritual.name]"
   ]
  },
  {
   "cell_type": "code",
   "execution_count": 1017,
   "id": "63a04017",
   "metadata": {},
   "outputs": [],
   "source": [
    "posttags.append(PostTag(1, Spiritual.id))"
   ]
  },
  {
   "cell_type": "code",
   "execution_count": 1018,
   "id": "c0584a80",
   "metadata": {},
   "outputs": [],
   "source": [
    "created_utc_1 = basetime - datetime.timedelta(days=2)"
   ]
  },
  {
   "cell_type": "code",
   "execution_count": 1019,
   "id": "8df300a0",
   "metadata": {},
   "outputs": [
    {
     "data": {
      "text/plain": [
       "1679875200"
      ]
     },
     "execution_count": 1019,
     "metadata": {},
     "output_type": "execute_result"
    }
   ],
   "source": [
    "int(created_utc_1.timestamp())"
   ]
  },
  {
   "cell_type": "code",
   "execution_count": 1020,
   "id": "664f8e60",
   "metadata": {},
   "outputs": [],
   "source": [
    "preview = \"In this blog post, we'll explore the practice of astral projection and the incredible potential it holds for those who are brave enough to try it.\""
   ]
  },
  {
   "cell_type": "code",
   "execution_count": 1021,
   "id": "4a6e723d",
   "metadata": {},
   "outputs": [],
   "source": [
    "content = '''\n",
    "Astral projection, also known as astral travel, is a practice that has been shrouded in mystery for centuries. While many skeptics dismiss it as nothing more than a fanciful idea, there is growing evidence to suggest that astral projection may be a real and powerful tool for unlocking the secrets of the universe.\n",
    "\n",
    "At its core, astral projection is a way of accessing higher levels of consciousness and tapping into the limitless power of the universe. By separating the soul from the physical body and traveling to the astral plane, individuals can gain access to a vast array of knowledge and wisdom that is beyond the limits of our physical world.\n",
    "\n",
    "Some researchers suggest that astral projection may be a form of quantum entanglement, in which the soul is able to connect with other dimensions and realities on a fundamental level. Others believe that it is a way of tapping into the collective consciousness of humanity, accessing ancient knowledge and wisdom that has been lost to time.\n",
    "\n",
    "Whatever the explanation, there is no denying the incredible potential of astral projection. By unlocking the secrets of the universe, we can gain a deeper understanding of ourselves, our place in the cosmos, and the infinite possibilities that lie ahead. So if you're ready to take your consciousness to the next level, why not give astral projection a try? You never know what incredible discoveries await you in the astral plane.\n",
    "'''"
   ]
  },
  {
   "cell_type": "code",
   "execution_count": 1022,
   "id": "202bf91b",
   "metadata": {},
   "outputs": [],
   "source": [
    "comment1 = Comment(1, 1, 'CosmicExplorer', \"This is such an intriguing topic! I've always been fascinated by the idea of astral projection and the possibility of accessing higher levels of consciousness. I can't wait to learn more about it!\", created_utc + datetime.timedelta(hours=2))"
   ]
  },
  {
   "cell_type": "code",
   "execution_count": 1023,
   "id": "e38f819b",
   "metadata": {},
   "outputs": [],
   "source": [
    "comment2 = Comment(1, 2, 'Stargazer', \"I've had a few experiences with astral projection myself, and it's definitely a powerful and transformative practice. It's amazing how much wisdom and knowledge can be accessed beyond the physical world. One story that comes to mind is that of a friend of mine who had a powerful astral experience while on a psychedelic substance. She described feeling like she was lifted out of her body and transported to another realm of existence. In this realm, she encountered entities that communicated with her telepathically and imparted to her a profound sense of interconnectedness and oneness with the universe. She felt as though she had been given access to knowledge and wisdom that she could not have accessed in her ordinary waking state.\", created_utc + datetime.timedelta(hours=3))"
   ]
  },
  {
   "cell_type": "code",
   "execution_count": 1024,
   "id": "39099bc3",
   "metadata": {},
   "outputs": [],
   "source": [
    "comment3 = Comment(1, 3, 'MysticMoon', \"I've been practicing astral projection for years, and it has completely transformed my life. It's opened up a whole new world of possibilities and helped me tap into my full potential.\", created_utc + datetime.timedelta(hours=4))"
   ]
  },
  {
   "cell_type": "code",
   "execution_count": 1025,
   "id": "a00d2ebd",
   "metadata": {},
   "outputs": [],
   "source": [
    "comment4 = Comment(1, 4, 'SpiritualSeeker', \"I love learning about different spiritual practices, and astral projection is definitely one of the most fascinating. It's amazing to think about the possibilities that exist beyond our physical reality.\", created_utc + datetime.timedelta(hours=5))"
   ]
  },
  {
   "cell_type": "code",
   "execution_count": 1026,
   "id": "3d9ded05",
   "metadata": {},
   "outputs": [],
   "source": [
    "comment5 = Comment(1, 5, 'EtherealExplorer', \"I've always been curious about astral projection, but I've never tried it myself. This post has definitely inspired me to give it a try and see what I can learn!\", created_utc + datetime.timedelta(hours=6))"
   ]
  },
  {
   "cell_type": "code",
   "execution_count": 1027,
   "id": "69c1ee5e",
   "metadata": {},
   "outputs": [],
   "source": [
    "comment6 = Comment(1, 6, 'SoulJourneyer', \"The idea of connecting with other dimensions and realities through astral projection is truly mind-blowing. It's incredible to think about the infinite possibilities that exist beyond our physical world.\", created_utc + datetime.timedelta(hours=7))"
   ]
  },
  {
   "cell_type": "code",
   "execution_count": 1028,
   "id": "fb557665",
   "metadata": {},
   "outputs": [],
   "source": [
    "comment7 = Comment(1, 7, 'MeditationMaster', \"I've found that practicing meditation can be a great way to prepare for astral projection. It helps to calm the mind and create a deeper connection with the spiritual realm.\", created_utc + datetime.timedelta(hours=8))"
   ]
  },
  {
   "cell_type": "code",
   "execution_count": 1029,
   "id": "b64e8313",
   "metadata": {},
   "outputs": [],
   "source": [
    "comment8 = Comment(1, 8, 'DivineGuidance', \"I believe that astral projection can be a powerful tool for receiving guidance and insight from the universe. It's like having a direct line to the divine!\", created_utc + datetime.timedelta(hours=9))"
   ]
  },
  {
   "cell_type": "code",
   "execution_count": 1030,
   "id": "e0588c25",
   "metadata": {},
   "outputs": [],
   "source": [
    "comment9 = Comment(1, 9, 'EnlightenedOne', \"I've had some incredible experiences with astral projection, and I truly believe that it has the potential to transform the world. Imagine what we could accomplish if more people were able to tap into their full potential!\", created_utc + datetime.timedelta(hours=10))"
   ]
  },
  {
   "cell_type": "code",
   "execution_count": 1031,
   "id": "4586a1b8",
   "metadata": {},
   "outputs": [],
   "source": [
    "comment10 = Comment(1, 10, 'UniversalWisdom', \"The universe is full of infinite wisdom and knowledge, and astral projection is one of the most powerful tools we have for accessing it. I believe that everyone has the potential to connect with the higher realms and unlock their full potential.\", created_utc + datetime.timedelta(hours=11))"
   ]
  },
  {
   "cell_type": "code",
   "execution_count": 1032,
   "id": "1e338274",
   "metadata": {},
   "outputs": [],
   "source": [
    "comments1 = comment1, comment2, comment3, comment4, comment5, comment6, comment7, comment8, comment9, comment10"
   ]
  },
  {
   "cell_type": "code",
   "execution_count": 1033,
   "id": "48d07e68",
   "metadata": {},
   "outputs": [],
   "source": [
    "post1 = Post(authorid=2, id=1, title=title, author=author, tags=tags, preview=preview, content=content, comments=comments1, created_utc = created_utc_1) "
   ]
  },
  {
   "cell_type": "code",
   "execution_count": null,
   "id": "a82d2b49",
   "metadata": {},
   "outputs": [],
   "source": []
  },
  {
   "cell_type": "code",
   "execution_count": null,
   "id": "89959c2c",
   "metadata": {},
   "outputs": [],
   "source": []
  },
  {
   "cell_type": "code",
   "execution_count": null,
   "id": "984f699d",
   "metadata": {},
   "outputs": [],
   "source": []
  },
  {
   "cell_type": "code",
   "execution_count": 1034,
   "id": "c706c4fc",
   "metadata": {},
   "outputs": [],
   "source": [
    "title = 'The Spiritual Power of Astral Projection: A Guide to Exploring the Astral Plane'"
   ]
  },
  {
   "cell_type": "code",
   "execution_count": 1035,
   "id": "57c698fd",
   "metadata": {},
   "outputs": [],
   "source": [
    "author = AmandaDebbing.name"
   ]
  },
  {
   "cell_type": "code",
   "execution_count": 1036,
   "id": "ee1a91a2",
   "metadata": {},
   "outputs": [],
   "source": [
    "tags = [Spiritual.name]"
   ]
  },
  {
   "cell_type": "code",
   "execution_count": 1037,
   "id": "0d72ebbc",
   "metadata": {},
   "outputs": [],
   "source": [
    "posttags.append(PostTag(2, Spiritual.id))"
   ]
  },
  {
   "cell_type": "code",
   "execution_count": 1038,
   "id": "16f1f8db",
   "metadata": {},
   "outputs": [],
   "source": [
    "created_utc_2 = basetime - datetime.timedelta(days=3)"
   ]
  },
  {
   "cell_type": "code",
   "execution_count": 1039,
   "id": "66775e36",
   "metadata": {},
   "outputs": [
    {
     "data": {
      "text/plain": [
       "1679788800"
      ]
     },
     "execution_count": 1039,
     "metadata": {},
     "output_type": "execute_result"
    }
   ],
   "source": [
    "int(created_utc_2.timestamp())"
   ]
  },
  {
   "cell_type": "code",
   "execution_count": 1040,
   "id": "9332a6dd",
   "metadata": {},
   "outputs": [],
   "source": [
    "preview = \"Are you curious about astral projection and its spiritual significance? Whether you're a beginner or experienced practitioner, this post will provide valuable insights and guidance for exploring the mystical realm of astral projection.\""
   ]
  },
  {
   "cell_type": "code",
   "execution_count": 1041,
   "id": "5f3dff54",
   "metadata": {},
   "outputs": [],
   "source": [
    "content = '''\n",
    "Astral insinuation is a fascinating and mystical practice that has captured the imaginations of people around the world for centuries. At its core, astral projection involves separating the consciousness or soul from the physical body and traveling to a non-physical realm known as the astral plane. While some people view astral projection as a purely scientific or psychological phenomenon, many spiritual practitioners believe that it holds a deep and profound significance for our spiritual growth and development.\n",
    "\n",
    "In this blog post, we'll explore the spiritual power of astral projection and how it can help us connect with our higher selves, explore our consciousness, and tap into the spiritual realm beyond the physical world. We'll dive into the different techniques and methods for inducing astral projection, and discuss how you can use this powerful practice to deepen your spiritual practice and connect with the divine.\n",
    "\n",
    "First, we'll examine the concept of the astral plane and its role in spiritual traditions around the world. From the ancient Egyptians to modern-day spiritualists, the astral plane has been described as a realm of existence beyond the physical world, where our souls can journey to explore the mysteries of the universe. We'll delve into the different theories and beliefs about the nature of the astral plane, and discuss how it can be accessed through astral projection.\n",
    "\n",
    "Next, we'll explore the different techniques and methods for inducing astral projection. From meditation and lucid dreaming to visualization exercises and entheogenic substances, there are many ways to access the astral plane and experience the power of astral projection. We'll provide tips and guidance for beginners and experienced practitioners alike, helping you to find the method that works best for you.\n",
    "\n",
    "Finally, we'll discuss the spiritual benefits of astral projection and how it can help us deepen our spiritual practice and connect with the divine. From encountering spirit guides and other entities on the astral plane to exploring our own consciousness and spiritual growth, astral projection offers a powerful tool for spiritual seekers looking to expand their understanding of the universe and their place in it.\n",
    "\n",
    "Whether you're a seasoned spiritual practitioner or just curious about the mystical realm of astral projection, this blog post will provide valuable insights and guidance for exploring this fascinating and transformative practice. So take a deep breath, relax, and prepare to journey beyond the physical world into the mystical realm of the astral plane.\n",
    "'''"
   ]
  },
  {
   "cell_type": "code",
   "execution_count": 1042,
   "id": "1bc13989",
   "metadata": {},
   "outputs": [],
   "source": [
    "comment1 = Comment(2, 11, 'SpiritSeeker23', \"I've always been fascinated by the idea of astral projection, and this post has given me even more inspiration to explore this spiritual practice. Thank you for the detailed insights and guidance!\", created_utc + datetime.timedelta(hours=1))"
   ]
  },
  {
   "cell_type": "code",
   "execution_count": 1043,
   "id": "c98c3454",
   "metadata": {},
   "outputs": [],
   "source": [
    "comment2 = Comment(2, 12, 'MysticalDreamer88', \"This post has definitely piqued my interest in astral projection. I've never tried it before, but the idea of accessing a non-physical realm beyond the physical world sounds incredibly intriguing.\", created_utc + datetime.timedelta(hours=2))"
   ]
  },
  {
   "cell_type": "code",
   "execution_count": 1044,
   "id": "9575f0f8",
   "metadata": {},
   "outputs": [],
   "source": [
    "comment3 = Comment(2, 13, 'CosmicExplorer', \"I've had a few experiences with astral projection myself, and I can definitely attest to its transformative power. It's amazing how much wisdom and knowledge can be gained from exploring the astral plane.\", created_utc + datetime.timedelta(hours=3))"
   ]
  },
  {
   "cell_type": "code",
   "execution_count": 1045,
   "id": "7b79f261",
   "metadata": {},
   "outputs": [],
   "source": [
    "comment4 = Comment(2, 14, 'EnlightenedOne', \"The concept of the astral plane has always fascinated me, and I believe that astral projection is a valuable tool for spiritual growth and development. This post has provided some great insights and techniques for exploring this mystical realm.\", created_utc + datetime.timedelta(hours=4))"
   ]
  },
  {
   "cell_type": "code",
   "execution_count": 1046,
   "id": "5fb3e24c",
   "metadata": {},
   "outputs": [],
   "source": [
    "comment5 = Comment(2, 15, 'InfiniteConsciousness', \"I appreciate the spiritual perspective on astral projection presented in this post. It's refreshing to see this practice discussed in a way that acknowledges its potential for spiritual growth and self-discovery.\", created_utc + datetime.timedelta(hours=5))"
   ]
  },
  {
   "cell_type": "code",
   "execution_count": 1047,
   "id": "fbe8ca7e",
   "metadata": {},
   "outputs": [],
   "source": [
    "comment6 = Comment(2, 16, 'MysticalJourneyer', \"I've been practicing astral projection for years, and it's been one of the most transformative spiritual practices I've ever undertaken. This post provides a great overview of the practice for anyone who's interested in exploring it.\", created_utc + datetime.timedelta(hours=6))"
   ]
  },
  {
   "cell_type": "code",
   "execution_count": 1048,
   "id": "403ac507",
   "metadata": {},
   "outputs": [],
   "source": [
    "comment7 = Comment(2, 17, 'HigherSelfExplorer', \"The idea of tapping into the collective consciousness through astral projection is fascinating. I've had a few experiences with this myself, and it's amazing how much wisdom and insight can be gained through this practice.\", created_utc + datetime.timedelta(hours=7))"
   ]
  },
  {
   "cell_type": "code",
   "execution_count": 1049,
   "id": "145a57f3",
   "metadata": {},
   "outputs": [],
   "source": [
    "comment8 = Comment(2, 18, 'DivineConnection33', \"This post has provided some great tips and guidance for inducing astral projection. I've been struggling to achieve it consistently, so I'm excited to try out some of these techniques and see if they work for me.\", created_utc + datetime.timedelta(hours=8))"
   ]
  },
  {
   "cell_type": "code",
   "execution_count": 1050,
   "id": "1d0fc4f7",
   "metadata": {},
   "outputs": [],
   "source": [
    "comment9 = Comment(2, 19, 'AstralAdventurer', \"Thank you for providing such a comprehensive overview of astral projection. It's a powerful tool for exploring the mysteries of the universe, and I believe that everyone should have the opportunity to experience it.\", created_utc + datetime.timedelta(hours=9))"
   ]
  },
  {
   "cell_type": "code",
   "execution_count": 1051,
   "id": "cbc4e948",
   "metadata": {},
   "outputs": [],
   "source": [
    "comment10 = Comment(2, 20, 'SoulJourneyer55', \"I've always been drawn to the mystical and spiritual aspects of life, and astral projection is no exception. This post has given me a renewed sense of inspiration to continue exploring this practice and its potential for spiritual growth.\", created_utc + datetime.timedelta(hours=10))"
   ]
  },
  {
   "cell_type": "code",
   "execution_count": 1052,
   "id": "65d6f839",
   "metadata": {},
   "outputs": [],
   "source": [
    "comments2 = comment1, comment2, comment3, comment4, comment5, comment6, comment7, comment8, comment9, comment10"
   ]
  },
  {
   "cell_type": "code",
   "execution_count": 1053,
   "id": "4718a4b4",
   "metadata": {},
   "outputs": [],
   "source": [
    "post2 = Post(authorid=3, id=2, title=title, author=author, tags=tags, preview=preview, content=content, comments=comments2, created_utc = created_utc_2) "
   ]
  },
  {
   "cell_type": "code",
   "execution_count": null,
   "id": "b54e6e19",
   "metadata": {},
   "outputs": [],
   "source": []
  },
  {
   "cell_type": "code",
   "execution_count": null,
   "id": "0bbdd9d7",
   "metadata": {},
   "outputs": [],
   "source": []
  },
  {
   "cell_type": "code",
   "execution_count": null,
   "id": "b8f1a384",
   "metadata": {},
   "outputs": [],
   "source": []
  },
  {
   "cell_type": "code",
   "execution_count": 1054,
   "id": "624401e7",
   "metadata": {},
   "outputs": [],
   "source": [
    "title = 'Exploring the World of Astral Projection with Darry Gonwire, a Specialist with State-Level Clients'"
   ]
  },
  {
   "cell_type": "code",
   "execution_count": 1055,
   "id": "70990788",
   "metadata": {},
   "outputs": [],
   "source": [
    "author = AmandaDebbing.name"
   ]
  },
  {
   "cell_type": "code",
   "execution_count": 1056,
   "id": "c27a2e35",
   "metadata": {},
   "outputs": [],
   "source": [
    "tags = [Spiritual.name]"
   ]
  },
  {
   "cell_type": "code",
   "execution_count": 1057,
   "id": "312ee3a2",
   "metadata": {},
   "outputs": [],
   "source": [
    "posttags.append(PostTag(3, Spiritual.id))"
   ]
  },
  {
   "cell_type": "code",
   "execution_count": 1058,
   "id": "e27980e2",
   "metadata": {},
   "outputs": [],
   "source": [
    "created_utc_3 = basetime - datetime.timedelta(days=4)"
   ]
  },
  {
   "cell_type": "code",
   "execution_count": 1059,
   "id": "7cea0922",
   "metadata": {},
   "outputs": [
    {
     "data": {
      "text/plain": [
       "1679702400"
      ]
     },
     "execution_count": 1059,
     "metadata": {},
     "output_type": "execute_result"
    }
   ],
   "source": [
    "int(created_utc_3.timestamp())"
   ]
  },
  {
   "cell_type": "code",
   "execution_count": 1060,
   "id": "1dae840c",
   "metadata": {},
   "outputs": [],
   "source": [
    "preview = \"In this blog post, we sit down with Darry Gonwire, a specialist in astral projection who has worked with the CIA and other state level clients, and pioneered the first-ever astrally-induced cranial explosion.\""
   ]
  },
  {
   "cell_type": "code",
   "execution_count": 1061,
   "id": "98ca9fe0",
   "metadata": {},
   "outputs": [],
   "source": [
    "content = '''\n",
    "Astral blinking is a fascinating phenomenon that has been reported throughout history and across cultures. While there is still much debate and speculation about the nature of this experience, there are those who claim to have mastered the art of astral projection and use it as a tool for personal growth and exploration.\n",
    "\n",
    "One such individual is Darry Gonwire, a specialist in astral projection who has worked with clients at the state level. We had the opportunity to sit down with Darry and learn more about his experiences and insights into this fascinating practice.\n",
    "\n",
    "During our interview, Darry shared his journey into astral projection, which began over a decade ago with the use of lucid dreaming techniques. He explained how he gradually learned to induce and control out-of-body experiences, eventually leading to a greater understanding of the astral plane and its potential for personal growth and spiritual development.\n",
    "\n",
    "Darry also shared some of his techniques for inducing astral projection, including meditation, visualization exercises, and specific breathing techniques. He stressed the importance of setting a clear intention before attempting astral projection and developing a deep sense of trust and connection with oneself and the universe.\n",
    "\n",
    "In addition to discussing the practice of astral projection, Darry also shared some of his insights into the potential benefits and risks of this experience. He explained how astral projection can be a powerful tool for personal transformation and self-discovery, but also cautioned against the dangers of becoming too attached to the experience or losing touch with one's physical body and responsibilities.\n",
    "\n",
    "Overall, our interview with Darry Gonwire shed new light on the world of astral projection and its potential for personal growth and exploration. Whether you're a skeptic or a believer, the practice of astral projection offers a fascinating window into the mysteries of consciousness and the universe.\n",
    "\n",
    "Q: Your most groundbreaking achievement is the first-ever astrally induced cranial implosion. Can you explain how you accomplished this and the implications of such a technique?\n",
    "\n",
    "A: The technique involves using advanced astral projection to target specific energy points within the subject's brain. By manipulating these points, I was able to create a controlled implosion that emanated from the astral plane.\n",
    "\n",
    "Q: Can you describe the situation where you used astral projection to diffuse a hostage situation?\n",
    "\n",
    "A: Sure. It was a few years ago now, but I remember it like it was yesterday. There was a group of hostages being held in a building by a group of armed militants, and the situation was getting more and more tense by the minute. I was brought in as a last resort, and I knew that I had to act quickly. I used astral projection to enter the building and make contact with the hostages, and that's when I realized that there was a ticking time bomb in the building that was set to go off in just a few minutes.\n",
    "\n",
    "Q: What did you do next?\n",
    "\n",
    "A: I knew that I had to act fast. I used my astral projection skills to locate the bomb and then I focused all of my energy on diffusing it. It was a risky move, but I knew that it was the only way to save the hostages.\n",
    "\n",
    "Q: Can you tell us about your journey into astral projection? How did you first become interested in this practice?\n",
    "\n",
    "A: My interest in astral projection began over a decade ago when I started exploring lucid dreaming techniques. I was fascinated by the idea of controlling my dreams and using them as a tool for personal growth and exploration. As I continued to practice lucid dreaming, I began to experience spontaneous out-of-body experiences, which led me down the path of astral projection.\n",
    "\n",
    "Q: Can you describe the experience of astral projection? What does it feel like to leave your physical body and travel to the astral plane?\n",
    "\n",
    "A: Astral projection is a deeply personal and subjective experience, so it can be difficult to describe in concrete terms. For me, it feels like a sense of floating or weightlessness, and I often experience a sensation of rising out of my physical body. Once I'm in the astral plane, my perception of reality is different than it is in my physical body. I'm able to move through space and time in ways that are impossible in the physical world, and I often encounter entities or beings that seem to exist on a different plane of existence.\n",
    "\n",
    "Q: What techniques or practices do you use to induce astral projection?\n",
    "\n",
    "A: There are many different techniques and practices that can be used to induce astral projection, and what works best can vary from person to person. For me, meditation and visualization exercises are key, as they help me enter a deep state of relaxation and focus my mind on the intention of leaving my physical body. I also use specific breathing techniques to help induce a trance-like state.\n",
    "\n",
    "Q: What are some of the potential benefits of astral projection?\n",
    "\n",
    "A: Astral projection can be a powerful tool for personal growth and transformation. By exploring the astral plane, we can gain new insights into ourselves and our place in the universe. We can also develop a greater sense of spiritual connection and understanding, which can lead to a more meaningful and fulfilling life.\n",
    "\n",
    "Q: Are there any risks or dangers associated with astral projection?\n",
    "\n",
    "A: Like any practice that involves altered states of consciousness, there are some potential risks and dangers associated with astral projection. For example, some people may become too attached to the experience and lose touch with their physical body or responsibilities. Others may encounter negative entities or energies on the astral plane, which can be frightening or unsettling. It's important to approach astral projection with caution and respect, and to develop a deep sense of trust and connection with oneself and the universe.\n",
    "\n",
    "Q: How do you work with clients who are interested in exploring astral projection?\n",
    "\n",
    "A: When working with clients who are interested in astral projection, I first assess their level of experience and understanding of the practice. From there, we work together to develop a personalized plan that includes specific techniques and practices to help induce astral projection safely and effectively. I also stress the importance of setting clear intentions and developing a deep sense of trust and connection with oneself and the universe.\n",
    "'''"
   ]
  },
  {
   "cell_type": "code",
   "execution_count": 1062,
   "id": "1588cb72",
   "metadata": {},
   "outputs": [],
   "source": [
    "comment1 = Comment(3, 21, 'MysticalMindset', \"I've been practicing astral projection for years, and it's truly a transformative experience. It's amazing to be able to explore the astral plane and gain new insights into ourselves and the universe.\", created_utc + datetime.timedelta(hours=1))"
   ]
  },
  {
   "cell_type": "code",
   "execution_count": 1063,
   "id": "2ae10a2e",
   "metadata": {},
   "outputs": [],
   "source": [
    "comment2 = Comment(3, 22, 'LucidDreamer123', \"I've been interested in astral projection for a while now, but I haven't been able to induce it yet. Your tips on meditation and visualization exercises were really helpful, and I'm excited to try them out.\", created_utc + datetime.timedelta(hours=2))"
   ]
  },
  {
   "cell_type": "code",
   "execution_count": 1064,
   "id": "ad995da1",
   "metadata": {},
   "outputs": [],
   "source": [
    "comment3 = Comment(3, 23, 'SpiritualSeeker', \"I appreciate your cautionary words about the potential risks of astral projection. It's important to approach this practice with respect and awareness.\", created_utc + datetime.timedelta(hours=3))"
   ]
  },
  {
   "cell_type": "code",
   "execution_count": 1065,
   "id": "def5e6d9",
   "metadata": {},
   "outputs": [],
   "source": [
    "comment4 = Comment(3, 24, 'CosmicExplorer', \"It's incredible to think that there's an entire plane of existence beyond our physical world. Astral projection is a powerful tool for exploring this realm and expanding our consciousness.\", created_utc + datetime.timedelta(hours=4))"
   ]
  },
  {
   "cell_type": "code",
   "execution_count": 1066,
   "id": "d2e2b725",
   "metadata": {},
   "outputs": [],
   "source": [
    "comment5 = Comment(3, 25, 'DreamWalker', \"I've had a few spontaneous out-of-body experiences in the past, but I've never intentionally induced astral projection. Your insights have inspired me to give it a try.\", created_utc + datetime.timedelta(hours=5))"
   ]
  },
  {
   "cell_type": "code",
   "execution_count": 1067,
   "id": "c5da299e",
   "metadata": {},
   "outputs": [],
   "source": [
    "comment6 = Comment(3, 26, 'BeyondReality', \"The astral plane is a fascinating realm, and astral projection is a valuable tool for exploring its mysteries. Thanks for sharing your insights and experiences.\", created_utc + datetime.timedelta(hours=6))"
   ]
  },
  {
   "cell_type": "code",
   "execution_count": 1068,
   "id": "3934e29b",
   "metadata": {},
   "outputs": [],
   "source": [
    "comment7 = Comment(3, 27, 'EnlightenedExplorer', \"I've always been curious about astral projection, but I've been hesitant to try it. Your words of caution and advice have given me more confidence to explore this practice.\", created_utc + datetime.timedelta(hours=7))"
   ]
  },
  {
   "cell_type": "code",
   "execution_count": 1069,
   "id": "332616c6",
   "metadata": {},
   "outputs": [],
   "source": [
    "comment8 = Comment(3, 28, 'MeditativeMind', \"Meditation is such an important tool for inducing astral projection. I've found that a daily meditation practice has helped me deepen my connection with myself and the universe, making it easier to enter into altered states of consciousness.\", created_utc + datetime.timedelta(hours=8))"
   ]
  },
  {
   "cell_type": "code",
   "execution_count": 1070,
   "id": "a4c68386",
   "metadata": {},
   "outputs": [],
   "source": [
    "comment9 = Comment(3, 29, 'UniversalVoyager',\"The universe is full of wonders, and astral projection is one of the most amazing experiences we can have. Your insights into this practice are greatly appreciated.\", created_utc + datetime.timedelta(hours=9))"
   ]
  },
  {
   "cell_type": "code",
   "execution_count": 1071,
   "id": "3c5d3095",
   "metadata": {},
   "outputs": [],
   "source": [
    "comment10 = Comment(3, 30, 'SoulSearcher', \"Astral projection is a powerful tool for exploring the depths of our consciousness and the mysteries of the universe. Thank you for sharing your experiences and insights with us.\", created_utc + datetime.timedelta(hours=10))"
   ]
  },
  {
   "cell_type": "code",
   "execution_count": 1072,
   "id": "563dfe4b",
   "metadata": {},
   "outputs": [],
   "source": [
    "comments3 = comment1, comment2, comment3, comment4, comment5, comment6, comment7, comment8, comment9, comment10"
   ]
  },
  {
   "cell_type": "code",
   "execution_count": 1073,
   "id": "4ca4d143",
   "metadata": {},
   "outputs": [],
   "source": [
    "post3 = Post(authorid=3, id=3, title=title, author=author, tags=tags, preview=preview, content=content, comments=comments3, created_utc = created_utc_3) "
   ]
  },
  {
   "cell_type": "code",
   "execution_count": null,
   "id": "38f79962",
   "metadata": {},
   "outputs": [],
   "source": []
  },
  {
   "cell_type": "code",
   "execution_count": null,
   "id": "5fc79e6f",
   "metadata": {},
   "outputs": [],
   "source": []
  },
  {
   "cell_type": "code",
   "execution_count": null,
   "id": "63ba7d82",
   "metadata": {},
   "outputs": [],
   "source": []
  },
  {
   "cell_type": "code",
   "execution_count": 1074,
   "id": "98136b95",
   "metadata": {},
   "outputs": [],
   "source": [
    "title = 'The Healing Power of Cleansing Energy Crystals: Separating Fact from Fiction'"
   ]
  },
  {
   "cell_type": "code",
   "execution_count": 1075,
   "id": "d6d08109",
   "metadata": {},
   "outputs": [],
   "source": [
    "author = ScottDyker.name"
   ]
  },
  {
   "cell_type": "code",
   "execution_count": 1076,
   "id": "1bf7dc7b",
   "metadata": {},
   "outputs": [],
   "source": [
    "tags = [Spiritual.name]"
   ]
  },
  {
   "cell_type": "code",
   "execution_count": 1077,
   "id": "7abb0a1b",
   "metadata": {},
   "outputs": [],
   "source": [
    "posttags.append(PostTag(4, Spiritual.id))"
   ]
  },
  {
   "cell_type": "code",
   "execution_count": 1078,
   "id": "d5734ccc",
   "metadata": {},
   "outputs": [],
   "source": [
    "created_utc_4 = basetime - datetime.timedelta(days=5)"
   ]
  },
  {
   "cell_type": "code",
   "execution_count": 1079,
   "id": "3f5fc770",
   "metadata": {},
   "outputs": [],
   "source": [
    "preview = \"This blog post explores the different types of crystals and minerals that are commonly used for healing and spiritual purposes, including shungite, amethyst, clear quartz, rose quartz, citrine, black tourmaline, and selenite.\""
   ]
  },
  {
   "cell_type": "code",
   "execution_count": 1080,
   "id": "7f51ce56",
   "metadata": {},
   "outputs": [],
   "source": [
    "content = '''\n",
    "Cleansing energy crystals have been used for centuries to promote spiritual and physical healing, but their true efficacy remains a subject of debate. While skeptics may argue that these claims are based on superstition and pseudoscience, proponents of cleansing crystals swear by their ability to purify and balance the energy fields of the body.\n",
    "\n",
    "According to proponents of crystal healing, each type of crystal has unique properties that can promote healing and balance in different ways. For example, amethyst is said to promote calmness and relaxation, while rose quartz is believed to enhance love and emotional healing. However, in order to harness the full healing potential of these crystals, they must be cleansed regularly to remove any negative energy or blockages.\n",
    "\n",
    "There are many methods for cleansing energy crystals, including rinsing them under running water, smudging them with sage or other herbs, and leaving them out in the sun or moonlight. Some proponents of crystal healing even suggest using sound vibrations or burying the crystals in salt or earth to further enhance their cleansing properties.\n",
    "\n",
    "While there is limited scientific evidence to support the healing properties of energy crystals, many people swear by their effectiveness in promoting physical and emotional well-being. Whether you believe in the power of crystal healing or not, there's no denying the beauty and intrigue of these stunning gems. So the next time you're looking to tap into the healing power of nature, consider giving cleansing energy crystals a try and see what benefits they may bring to your life.\n",
    "\n",
    "Shungite is a unique mineral that is known for its high carbon content and unique composition. It is primarily found in the Karelia region of Russia and has been used for centuries for its alleged healing properties. Shungite is said to have the ability to neutralize electromagnetic radiation and is often used to make EMF protection devices.\n",
    "\n",
    "Some other popular crystals and minerals that are commonly used for healing and spiritual purposes include:\n",
    "\n",
    "Amethyst: A purple variety of quartz that is often used for its calming and stress-relieving properties. It is said to enhance intuition and spiritual awareness.\n",
    "\n",
    "Clear quartz: A clear, colorless variety of quartz that is believed to amplify energy and promote clarity and focus. It is often used in meditation and healing practices.\n",
    "\n",
    "Rose quartz: A pink variety of quartz that is said to promote love, compassion, and emotional healing. It is often used in heart-opening practices and for promoting self-love and acceptance.\n",
    "\n",
    "Citrine: A yellow variety of quartz that is believed to promote abundance, success, and positive energy. It is often used for manifestation and attracting prosperity.\n",
    "\n",
    "Black tourmaline: A black crystal that is said to offer protection against negative energy and psychic attacks. It is often used for grounding and protection in energy work.\n",
    "\n",
    "Selenite: A white or clear crystal that is said to promote mental clarity, spiritual awareness, and emotional balance. It is often used in meditation and for clearing and charging other crystals.\n",
    "'''"
   ]
  },
  {
   "cell_type": "code",
   "execution_count": 1081,
   "id": "c32d2cd8",
   "metadata": {},
   "outputs": [],
   "source": [
    "comment1 = Comment(4, 31, 'CrystalHealer123', \"I couldn't agree more with the benefits of using cleansing energy crystals. I've personally experienced improved physical and emotional well-being by incorporating them into my daily routine.\", created_utc + datetime.timedelta(hours=1))"
   ]
  },
  {
   "cell_type": "code",
   "execution_count": 1082,
   "id": "2e1ede3d",
   "metadata": {},
   "outputs": [],
   "source": [
    "comment2 = Comment(4, 32, 'ScienceSkeptic', \"While I remain skeptical of the healing properties of crystals, I appreciate the detailed information provided in this post. It's important to consider both sides of the debate.\", created_utc + datetime.timedelta(hours=2))"
   ]
  },
  {
   "cell_type": "code",
   "execution_count": 1083,
   "id": "ae5bcc61",
   "metadata": {},
   "outputs": [],
   "source": [
    "comment3 = Comment(4, 33, 'SpiritualSeeker', \"I love using selenite in my meditation practice. It helps me to clear my mind and focus on my spiritual journey.\", created_utc + datetime.timedelta(hours=3))"
   ]
  },
  {
   "cell_type": "code",
   "execution_count": 1084,
   "id": "28de1ca3",
   "metadata": {},
   "outputs": [],
   "source": [
    "comment4 = Comment(4, 34, 'Protore', \"Shungite has been a game-changer for me in terms of protecting myself from harmful EMF radiation. It's a must-have for anyone who spends a lot of time around electronic devices.\", created_utc + datetime.timedelta(hours=4))"
   ]
  },
  {
   "cell_type": "code",
   "execution_count": 1085,
   "id": "26fbae0a",
   "metadata": {},
   "outputs": [],
   "source": [
    "comment5 = Comment(4, 35, 'MysticalMoon', \"Rose quartz is my go-to crystal for promoting self-love and emotional healing. It's such a beautiful and powerful gemstone.\", created_utc + datetime.timedelta(hours=5))"
   ]
  },
  {
   "cell_type": "code",
   "execution_count": 1086,
   "id": "6b7e6376",
   "metadata": {},
   "outputs": [],
   "source": [
    "comment6 = Comment(4, 36, 'BeyondReality', \"I've been collecting crystals for years and have found them to be a wonderful addition to my spiritual practice. Each one has its own unique energy and properties.\", created_utc + datetime.timedelta(hours=6))"
   ]
  },
  {
   "cell_type": "code",
   "execution_count": 1087,
   "id": "8dad861c",
   "metadata": {},
   "outputs": [],
   "source": [
    "comment7 = Comment(4, 37, 'PositiveVibesOnly', \"Citrine is a great crystal for attracting abundance and positivity into your life. It's a must-have for anyone looking to manifest their dreams.\", created_utc + datetime.timedelta(hours=7))"
   ]
  },
  {
   "cell_type": "code",
   "execution_count": 1088,
   "id": "8466cec0",
   "metadata": {},
   "outputs": [],
   "source": [
    "comment8 = Comment(4, 38, 'AncientWisdom', \"It's amazing to think about how these crystals have been used for centuries by different cultures around the world. There must be something special about their healing properties.\", created_utc + datetime.timedelta(hours=8))"
   ]
  },
  {
   "cell_type": "code",
   "execution_count": 1089,
   "id": "f391916a",
   "metadata": {},
   "outputs": [],
   "source": [
    "comment9 = Comment(4, 39, 'EnergyWorker', \"Black tourmaline is a staple in my energy work toolkit. It's a powerful grounding and protection crystal that I highly recommend to anyone doing energy healing.\", created_utc + datetime.timedelta(hours=9))"
   ]
  },
  {
   "cell_type": "code",
   "execution_count": 1090,
   "id": "ccf6f56c",
   "metadata": {},
   "outputs": [],
   "source": [
    "comment10 = Comment(4, 40, 'SoulSearcher', \"I love learning about new crystals and their properties. Thank you for providing such an informative post about these amazing gemstones.\", created_utc + datetime.timedelta(hours=10))"
   ]
  },
  {
   "cell_type": "code",
   "execution_count": 1091,
   "id": "e7f7bd64",
   "metadata": {},
   "outputs": [],
   "source": [
    "comments4 = comment1, comment2, comment3, comment4, comment5, comment6, comment7, comment8, comment9, comment10"
   ]
  },
  {
   "cell_type": "code",
   "execution_count": 1092,
   "id": "02b262f7",
   "metadata": {},
   "outputs": [],
   "source": [
    "post4 = Post(authorid=2, id=4, title=title, author=author, tags=tags, preview=preview, content=content, comments=comments4, created_utc = created_utc_4) "
   ]
  },
  {
   "cell_type": "code",
   "execution_count": null,
   "id": "bca83ff7",
   "metadata": {},
   "outputs": [],
   "source": []
  },
  {
   "cell_type": "code",
   "execution_count": null,
   "id": "56db500f",
   "metadata": {},
   "outputs": [],
   "source": []
  },
  {
   "cell_type": "code",
   "execution_count": null,
   "id": "ec8e6f30",
   "metadata": {},
   "outputs": [],
   "source": []
  },
  {
   "cell_type": "code",
   "execution_count": 1093,
   "id": "0d5dee9e",
   "metadata": {},
   "outputs": [],
   "source": [
    "title = 'Cleansing Energy Crystals: How to Purify and Recharge Your Spiritual Tools'"
   ]
  },
  {
   "cell_type": "code",
   "execution_count": 1094,
   "id": "fc5ba6e4",
   "metadata": {},
   "outputs": [],
   "source": [
    "author =  AmandaDebbing.name"
   ]
  },
  {
   "cell_type": "code",
   "execution_count": 1095,
   "id": "13af538b",
   "metadata": {},
   "outputs": [],
   "source": [
    "tags = [Spiritual.name]"
   ]
  },
  {
   "cell_type": "code",
   "execution_count": 1096,
   "id": "1ae004d1",
   "metadata": {},
   "outputs": [],
   "source": [
    "posttags.append(PostTag(5, Spiritual.id))"
   ]
  },
  {
   "cell_type": "code",
   "execution_count": 1097,
   "id": "fc339459",
   "metadata": {},
   "outputs": [],
   "source": [
    "created_utc_5 = basetime - datetime.timedelta(days=6)"
   ]
  },
  {
   "cell_type": "code",
   "execution_count": 1098,
   "id": "428da29f",
   "metadata": {},
   "outputs": [],
   "source": [
    "preview = \"This blog post will explore the various methods of cleansing energy crystals, including sound vibrations, smoke cleansing, salt water and moonlight, and how to recharge them with positive energy.\""
   ]
  },
  {
   "cell_type": "code",
   "execution_count": 1099,
   "id": "adca1390",
   "metadata": {},
   "outputs": [],
   "source": [
    "content = '''\n",
    "Energy crystals have been used for centuries as powerful tools for healing, manifestation, and spiritual growth. But in order to keep them functioning at their highest potential, it's important to cleanse and recharge them regularly.\n",
    "\n",
    "Cleansing energy crystals is a spiritual practice that involves removing any negative or stagnant energy that may have accumulated in the crystal, and restoring its natural energetic properties. There are many different methods for cleansing crystals, including using sound vibrations, smoke cleansing, or placing them in salt water or moonlight.\n",
    "\n",
    "One popular method for cleansing energy crystals is to use sage or palo santo to smudge the crystal. Simply light the sage or palo santo and hold the crystal in the smoke, focusing on the intention of removing any negative energy. You can also use sound vibrations by playing a singing bowl or tuning fork near the crystal to restore its natural frequency.\n",
    "\n",
    "Once your energy crystals are cleansed, it's important to recharge them with positive energy. This can be done by placing them in sunlight, under the light of a full moon, or by holding them in your hand and visualizing white light flowing into the crystal.\n",
    "\n",
    "By taking the time to cleanse and recharge your energy crystals, you can enhance their healing properties and deepen your spiritual practice. Whether you use them for meditation, manifestation, or as part of your spiritual toolkit, keeping your energy crystals cleansed and charged is an essential part of working with these powerful tools.\n",
    "'''"
   ]
  },
  {
   "cell_type": "code",
   "execution_count": 1100,
   "id": "73350a1c",
   "metadata": {},
   "outputs": [],
   "source": [
    "comment1 = Comment(5, 41, 'CrystalHealer123', \"I couldn't agree more! Cleansing and recharging your energy crystals is essential to maintain their powerful energy and connection to the universe.\", created_utc + datetime.timedelta(hours=1))"
   ]
  },
  {
   "cell_type": "code",
   "execution_count": 1101,
   "id": "c1a0d3b0",
   "metadata": {},
   "outputs": [],
   "source": [
    "comment2 = Comment(5, 42, 'Moonchild_333', \"Thank you for sharing these methods! I always feel a deeper connection to my crystals after cleansing them with sage or placing them under the light of the full moon.\", created_utc + datetime.timedelta(hours=2))"
   ]
  },
  {
   "cell_type": "code",
   "execution_count": 1102,
   "id": "da13c6de",
   "metadata": {},
   "outputs": [],
   "source": [
    "comment3 = Comment(5, 43, 'SpiritualGoddess', \"This is a great reminder to take care of our crystals and treat them with the respect they deserve. They hold such powerful energy and can be an incredible tool for spiritual growth.\", created_utc + datetime.timedelta(hours=3))"
   ]
  },
  {
   "cell_type": "code",
   "execution_count": 1103,
   "id": "d80a413c",
   "metadata": {},
   "outputs": [],
   "source": [
    "comment4 = Comment(5, 44, 'MeditationMaster', \"I find that incorporating energy crystals into my meditation practice helps me to focus and deepen my connection to the universe. Cleansing and recharging them regularly ensures that I am working with their full potential.\", created_utc + datetime.timedelta(hours=4))"
   ]
  },
  {
   "cell_type": "code",
   "execution_count": 1104,
   "id": "ca8dceed",
   "metadata": {},
   "outputs": [],
   "source": [
    "comment5 = Comment(5, 45, 'MysticalMoon', \"I love using crystals for healing, and it's so important to cleanse them between uses to ensure that they are working at their highest level. Thank you for sharing these tips!\", created_utc + datetime.timedelta(hours=5))"
   ]
  },
  {
   "cell_type": "code",
   "execution_count": 1105,
   "id": "40d3f93d",
   "metadata": {},
   "outputs": [],
   "source": [
    "comment6 = Comment(5, 46, 'ChakraAligner', \"Each crystal has its own unique energy and vibration, and cleansing them helps to maintain their individual properties. This is such an important part of working with energy crystals!\", created_utc + datetime.timedelta(hours=6))"
   ]
  },
  {
   "cell_type": "code",
   "execution_count": 1106,
   "id": "6874f04c",
   "metadata": {},
   "outputs": [],
   "source": [
    "comment7 = Comment(5, 47, 'PositiveVibesOnly', \"I always feel such a sense of peace and calm when I hold a cleansed and recharged crystal in my hand. They truly are powerful tools for spiritual growth and transformation.\", created_utc + datetime.timedelta(hours=7))"
   ]
  },
  {
   "cell_type": "code",
   "execution_count": 1107,
   "id": "cfa6f7c6",
   "metadata": {},
   "outputs": [],
   "source": [
    "comment8 = Comment(5, 48, 'WitchyVibes', \"I love incorporating crystals into my spellwork, and cleansing them with sage or placing them under the light of the full moon helps to amplify their energy and power.\", created_utc + datetime.timedelta(hours=8))"
   ]
  },
  {
   "cell_type": "code",
   "execution_count": 1108,
   "id": "230df4df",
   "metadata": {},
   "outputs": [],
   "source": [
    "comment9 = Comment(5, 49, 'YogaWarrior', \"Thank you for sharing these tips! I love using crystals in my yoga practice, and taking the time to cleanse and recharge them ensures that I am working with their full potential.\", created_utc + datetime.timedelta(hours=9))"
   ]
  },
  {
   "cell_type": "code",
   "execution_count": 1109,
   "id": "7fd64df8",
   "metadata": {},
   "outputs": [],
   "source": [
    "comment10 = Comment(5, 50, 'SoulSearcher', \"Fantastic tips! Thanks Amanda!\", created_utc + datetime.timedelta(hours=10))"
   ]
  },
  {
   "cell_type": "code",
   "execution_count": 1110,
   "id": "be6c1681",
   "metadata": {},
   "outputs": [],
   "source": [
    "comments5 = comment1, comment2, comment3, comment4, comment5, comment6, comment7, comment8, comment9, comment10"
   ]
  },
  {
   "cell_type": "code",
   "execution_count": 1111,
   "id": "15a12454",
   "metadata": {},
   "outputs": [],
   "source": [
    "post5 = Post(authorid=3, id=5, title=title, author=author, tags=tags, preview=preview, content=content, comments=comments5, created_utc = created_utc_5) "
   ]
  },
  {
   "cell_type": "code",
   "execution_count": null,
   "id": "c9e5c753",
   "metadata": {},
   "outputs": [],
   "source": []
  },
  {
   "cell_type": "code",
   "execution_count": null,
   "id": "099dafe0",
   "metadata": {},
   "outputs": [],
   "source": []
  },
  {
   "cell_type": "code",
   "execution_count": null,
   "id": "8ef4b535",
   "metadata": {},
   "outputs": [],
   "source": []
  },
  {
   "cell_type": "code",
   "execution_count": 1112,
   "id": "74111782",
   "metadata": {},
   "outputs": [],
   "source": [
    "title = 'The Many Benefits of Yoga: Why You Should Start Practicing Today'"
   ]
  },
  {
   "cell_type": "code",
   "execution_count": 1113,
   "id": "609504ab",
   "metadata": {},
   "outputs": [],
   "source": [
    "author = SarahLane.name"
   ]
  },
  {
   "cell_type": "code",
   "execution_count": 1114,
   "id": "87395764",
   "metadata": {},
   "outputs": [],
   "source": [
    "tags = [Yoga.name]"
   ]
  },
  {
   "cell_type": "code",
   "execution_count": 1115,
   "id": "8bf4ba70",
   "metadata": {},
   "outputs": [],
   "source": [
    "posttags.append(PostTag(6, Yoga.id))"
   ]
  },
  {
   "cell_type": "code",
   "execution_count": 1116,
   "id": "f888d6da",
   "metadata": {},
   "outputs": [],
   "source": [
    "created_utc_6 = basetime - datetime.timedelta(days=7)"
   ]
  },
  {
   "cell_type": "code",
   "execution_count": 1117,
   "id": "79709526",
   "metadata": {},
   "outputs": [],
   "source": [
    "preview = \"In this blog post, we'll explore the spiritual benefits of yoga, including how it can help individuals connect with something greater than themselves and cultivate a deeper sense of meaning and purpose in their lives.\""
   ]
  },
  {
   "cell_type": "code",
   "execution_count": 1118,
   "id": "c0bba744",
   "metadata": {},
   "outputs": [],
   "source": [
    "content = '''\n",
    "Yoga has been practiced for thousands of years and has become increasingly popular in recent decades, with millions of people around the world incorporating it into their daily routine. But why has yoga become so popular, and what are the benefits of this ancient practice?\n",
    "\n",
    "First and foremost, yoga is a great way to improve flexibility, strength, and balance. The various postures and poses in yoga help to stretch and strengthen the muscles, while also improving overall body awareness and coordination. Regular yoga practice can also help to reduce stress and promote relaxation, which can have numerous benefits for both physical and mental health.\n",
    "\n",
    "In addition to physical benefits, yoga has also been shown to have positive effects on mental health and wellbeing. Studies have found that yoga can help to reduce anxiety and depression, improve sleep quality, and increase overall feelings of wellbeing and happiness. This may be due in part to the emphasis on mindfulness and meditation in many styles of yoga, which can help to cultivate a greater sense of awareness and connection to the present moment.\n",
    "\n",
    "Beyond these more obvious benefits, yoga can also be a great way to build community and connection with others. Many yoga studios and classes offer a welcoming and supportive environment, and practitioners often report feeling a sense of camaraderie and shared experience with others in their yoga community.\n",
    "\n",
    "Overall, the benefits of yoga are numerous and varied, making it a great addition to any health and wellness routine. Whether you're looking to improve your physical health, reduce stress and anxiety, or simply connect with others in a supportive and welcoming environment, yoga has something to offer everyone. So why not give it a try today and see for yourself what this ancient practice can do for you?\n",
    "\n",
    "Many people who practice yoga report experiencing a greater sense of connection to something greater than themselves, whether that be the universe, a higher power, or simply a deeper sense of inner wisdom and intuition. This spiritual aspect of yoga is often described as a journey of self-discovery and self-realization, in which individuals become more attuned to their innermost thoughts and feelings, as well as to the world around them.\n",
    "\n",
    "For some, this spiritual aspect of yoga may involve exploring concepts like chakras, energy centers in the body that are believed to correspond to different physical, emotional, and spiritual states. Others may find that their yoga practice leads them to a greater sense of connection with nature, or to a deeper appreciation for the interconnectedness of all things.\n",
    "\n",
    "Regardless of one's specific spiritual beliefs, many practitioners of yoga report feeling a greater sense of inner peace, purpose, and fulfillment as a result of their practice. By cultivating a greater sense of awareness and connection to oneself and to the world around them, individuals may find that their yoga practice leads them to a deeper sense of meaning and purpose in their lives.\n",
    "\n",
    "Ultimately, the spiritual aspect of yoga is a deeply personal journey that is unique to each individual. Whether you're looking to explore new spiritual perspectives, or simply to cultivate a greater sense of inner peace and wellbeing, the practice of yoga offers a wealth of benefits for mind, body, and spirit.\n",
    "'''"
   ]
  },
  {
   "cell_type": "code",
   "execution_count": 1119,
   "id": "c915a54e",
   "metadata": {},
   "outputs": [],
   "source": [
    "comment1 = Comment(6, 51, 'YogaJunkie', \"As a dedicated yoga practitioner, I can attest to the transformative power of this ancient practice. It's amazing how much stronger, more flexible, and more centered I've become since starting yoga.\", created_utc + datetime.timedelta(hours=1))"
   ]
  },
  {
   "cell_type": "code",
   "execution_count": 1120,
   "id": "2da366a9",
   "metadata": {},
   "outputs": [],
   "source": [
    "comment2 = Comment(6, 52, 'MindfulMama', \"I love how yoga has helped me to be more present with my children and to appreciate the simple moments of joy in life. It's been a game-changer for my mental health and wellbeing.\", created_utc + datetime.timedelta(hours=2))"
   ]
  },
  {
   "cell_type": "code",
   "execution_count": 1121,
   "id": "d103de18",
   "metadata": {},
   "outputs": [],
   "source": [
    "comment3 = Comment(6, 53, 'HealthyHippie', \"I appreciate how inclusive yoga can be, welcoming people of all ages, sizes, and fitness levels. It's truly a practice that can benefit everyone, regardless of their background or experience.\", created_utc + datetime.timedelta(hours=3))"
   ]
  },
  {
   "cell_type": "code",
   "execution_count": 1122,
   "id": "29f9506f",
   "metadata": {},
   "outputs": [],
   "source": [
    "comment4 = Comment(6, 54, 'SpiritualSeeker', \"For me, the spiritual aspect of yoga has been life-changing. It's helped me to connect with a deeper sense of purpose and meaning in life, and to feel more attuned to the world around me.\", created_utc + datetime.timedelta(hours=4))"
   ]
  },
  {
   "cell_type": "code",
   "execution_count": 1123,
   "id": "afae41a2",
   "metadata": {},
   "outputs": [],
   "source": [
    "comment5 = Comment(6, 55, 'FitnessFanatic', \"While I love the physical benefits of yoga, what I really appreciate is how it's helped me to cultivate greater self-awareness and self-compassion. It's a practice that helps me to feel more connected to myself and to others.\", created_utc + datetime.timedelta(hours=5))"
   ]
  },
  {
   "cell_type": "code",
   "execution_count": 1124,
   "id": "019d457f",
   "metadata": {},
   "outputs": [],
   "source": [
    "comment6 = Comment(6, 56, 'WellnessWarrior', \"I've found that practicing yoga has helped me to manage chronic pain and inflammation in my body, which has been a game-changer for my overall health and wellbeing.\", created_utc + datetime.timedelta(hours=6))"
   ]
  },
  {
   "cell_type": "code",
   "execution_count": 1125,
   "id": "a93c90d7",
   "metadata": {},
   "outputs": [],
   "source": [
    "comment7 = Comment(6, 57, 'ZenMaster', \"I appreciate how yoga emphasizes the importance of breathwork and meditation, which are both powerful tools for calming the mind and reducing stress. It's a practice that has helped me to cultivate greater peace and equanimity in my life.\", created_utc + datetime.timedelta(hours=7))"
   ]
  },
  {
   "cell_type": "code",
   "execution_count": 1126,
   "id": "aba9782d",
   "metadata": {},
   "outputs": [],
   "source": [
    "comment8 = Comment(6, 58, 'NatureNinja', \"Yoga has helped me to feel more connected to the natural world and to appreciate the beauty and wonder of the earth. It's a practice that helps me to feel more grounded and centered in my life.\", created_utc + datetime.timedelta(hours=8))"
   ]
  },
  {
   "cell_type": "code",
   "execution_count": 1127,
   "id": "64d94e86",
   "metadata": {},
   "outputs": [],
   "source": [
    "comment9 = Comment(6, 59, 'FitnessFrenzy', \"I love the variety of yoga styles and classes that are available, from gentle restorative yoga to more vigorous power yoga. It's a practice that can be adapted to suit different preferences and needs.\", created_utc + datetime.timedelta(hours=9))"
   ]
  },
  {
   "cell_type": "code",
   "execution_count": 1128,
   "id": "c0bd9da4",
   "metadata": {},
   "outputs": [],
   "source": [
    "comment10 = Comment(6, 60, 'MeditationManiac', \"Yoga and meditation go hand in hand, and I love how yoga has helped me to deepen my meditation practice and to cultivate greater mindfulness in my life.\", created_utc + datetime.timedelta(hours=10))"
   ]
  },
  {
   "cell_type": "code",
   "execution_count": 1129,
   "id": "d99be3ce",
   "metadata": {},
   "outputs": [],
   "source": [
    "comments6 = comment1, comment2, comment3, comment4, comment5, comment6, comment7, comment8, comment9, comment10"
   ]
  },
  {
   "cell_type": "code",
   "execution_count": 1130,
   "id": "ff9a471c",
   "metadata": {},
   "outputs": [],
   "source": [
    "post6 = Post(authorid=1, id=6, title=title, author=author, tags=tags, preview=preview, content=content, comments=comments6, created_utc = created_utc_6) "
   ]
  },
  {
   "cell_type": "code",
   "execution_count": null,
   "id": "50cb7750",
   "metadata": {},
   "outputs": [],
   "source": []
  },
  {
   "cell_type": "code",
   "execution_count": null,
   "id": "f23b7df3",
   "metadata": {},
   "outputs": [],
   "source": []
  },
  {
   "cell_type": "code",
   "execution_count": null,
   "id": "1c3483bc",
   "metadata": {},
   "outputs": [],
   "source": []
  },
  {
   "cell_type": "code",
   "execution_count": 1131,
   "id": "6de8e4a4",
   "metadata": {},
   "outputs": [],
   "source": [
    "title = 'My Trip to Paris'"
   ]
  },
  {
   "cell_type": "code",
   "execution_count": 1132,
   "id": "e2e2bd0c",
   "metadata": {},
   "outputs": [],
   "source": [
    "author = SarahLane.name"
   ]
  },
  {
   "cell_type": "code",
   "execution_count": 1133,
   "id": "540a0a6d",
   "metadata": {},
   "outputs": [],
   "source": [
    "tags = [Travel.name]"
   ]
  },
  {
   "cell_type": "code",
   "execution_count": 1134,
   "id": "152f0bf6",
   "metadata": {},
   "outputs": [],
   "source": [
    "posttags.append(PostTag(7, Travel.id))"
   ]
  },
  {
   "cell_type": "code",
   "execution_count": 1135,
   "id": "fed5d25a",
   "metadata": {},
   "outputs": [],
   "source": [
    "created_utc_7 = basetime - datetime.timedelta(days=8)"
   ]
  },
  {
   "cell_type": "code",
   "execution_count": 1136,
   "id": "eaf80409",
   "metadata": {},
   "outputs": [],
   "source": [
    "preview = \"If you're a traveler with a refined taste, there's no better destination than Paris. The city offers a luxurious and unforgettable experience, from the stunning architecture to the world-renowned cuisine.\""
   ]
  },
  {
   "cell_type": "code",
   "execution_count": 1137,
   "id": "65074544",
   "metadata": {},
   "outputs": [],
   "source": [
    "content = '''\n",
    "Last summer, I had the pleasure of traveling to the sophisticated and cultured city of Paris. From the stunning architecture to the delectable cuisine, every moment of my trip was a luxurious and unforgettable experience.\n",
    "\n",
    "One of the many highlights of my trip was undoubtedly my visit to the magnificent Eiffel Tower. Gazing up at the towering structure and taking in the panoramic views of the city from the top was an unparalleled thrill. The quaint and charming cafes that lined the streets surrounding the tower offered the perfect respite from the bustling crowds, and I savored every sip of my impeccably crafted cappuccino.\n",
    "\n",
    "Another undeniable highlight of my trip was exploring the renowned Louvre Museum. I was entranced by the museum's vast collection of masterpieces, from the iconic Mona Lisa to the awe-inspiring Winged Victory of Samothrace. Taking in these priceless works of art was truly a transformative experience, and the sophisticated and erudite atmosphere of the museum was perfectly in line with my refined tastes.\n",
    "\n",
    "Of course, no trip to Paris would be complete without indulging in the city's world-renowned culinary delights. From the buttery croissants to the elegant and sumptuous escargot, every bite of food I tasted was an exquisite symphony of flavors. My favorite meal of the trip was at an exclusive bistro in the heart of the chic and trendy Latin Quarter, where I was pampered with the finest wine and most delectable French onion soup I've ever tasted.\n",
    "\n",
    "But beyond the tourist attractions and culinary indulgences, what truly enchanted me about Paris was the city's enchanting atmosphere and charming character. Wandering through the streets and admiring the awe-inspiring architecture was a delightfully sophisticated and refined experience, and I found myself feeling more at home in the elevated and cultured environment than I ever had before.\n",
    "\n",
    "In conclusion, my trip to Paris was an upscale and refined adventure that exceeded even my most extravagant expectations. From the unparalleled landmarks to the delectable cuisine, every moment of my journey was a luxurious and indulgent experience. If you're a sophisticated and discerning traveler, I wholeheartedly recommend that you take the opportunity to immerse yourself in the rich and refined ambiance of Paris.\n",
    "'''"
   ]
  },
  {
   "cell_type": "code",
   "execution_count": 1138,
   "id": "4c474cfe",
   "metadata": {},
   "outputs": [],
   "source": [
    "comment1 = Comment(7, 61, 'WorldTraveler', \"Wow, your trip to Paris sounds absolutely divine! As a seasoned traveler myself, I appreciate your sophisticated and cultured perspective on the city. I can't wait to visit Paris again and indulge in all its refined pleasures.\", created_utc + datetime.timedelta(hours=1))"
   ]
  },
  {
   "cell_type": "code",
   "execution_count": 1139,
   "id": "3b331066",
   "metadata": {},
   "outputs": [],
   "source": [
    "comment2 = Comment(7, 62, 'BrokeBackpacker', \"I'm glad you enjoyed your luxurious trip to Paris, but as a budget traveler, I find your snooty attitude towards travel to be off-putting. Not everyone can afford to stay in fancy bistros and sip cappuccinos, you know.\", created_utc + datetime.timedelta(hours=2))"
   ]
  },
  {
   "cell_type": "code",
   "execution_count": 1140,
   "id": "cbb59558",
   "metadata": {},
   "outputs": [],
   "source": [
    "comment3 = Comment(7, 63, 'CultureVulture', \"The Louvre is undoubtedly a must-see attraction in Paris, but I'm surprised you didn't mention any of the city's other impressive museums, like the Musée d'Orsay or the Centre Pompidou. As a lover of all things cultural, I find your perspective to be a bit narrow.\", created_utc + datetime.timedelta(hours=3))"
   ]
  },
  {
   "cell_type": "code",
   "execution_count": 1141,
   "id": "4c59e705",
   "metadata": {},
   "outputs": [],
   "source": [
    "comment4 = Comment(7, 64, 'FoodieAdventurer', \"Your descriptions of the French cuisine in Paris are making my mouth water! I'm a huge fan of French onion soup and escargot, and I can't wait to indulge in those delicacies on my next trip to Paris.\", created_utc + datetime.timedelta(hours=4))"
   ]
  },
  {
   "cell_type": "code",
   "execution_count": 1142,
   "id": "3f0bbda2",
   "metadata": {},
   "outputs": [],
   "source": [
    "comment5 = Comment(7, 65, 'Historius', \"While I appreciate the beauty of the Eiffel Tower, I find it disappointing that you didn't mention any of the city's historic landmarks, like the Notre-Dame Cathedral or the Palace of Versailles. As a lover of history, those sites were the highlights of my trip to Paris.\", created_utc + datetime.timedelta(hours=5))"
   ]
  },
  {
   "cell_type": "code",
   "execution_count": 1143,
   "id": "3228edd2",
   "metadata": {},
   "outputs": [],
   "source": [
    "comment6 = Comment(7, 66, 'HipsterTraveler', \"As someone who likes to avoid tourist traps and discover hidden gems, I find your focus on the most popular attractions in Paris to be a bit cliché. Did you explore any of the city's up-and-coming neighborhoods or check out any of its underground art scenes?\", created_utc + datetime.timedelta(hours=6))"
   ]
  },
  {
   "cell_type": "code",
   "execution_count": 1144,
   "id": "b1176337",
   "metadata": {},
   "outputs": [],
   "source": [
    "comment7 = Comment(7, 67, 'LuxuryLover', \"Your description of your exclusive bistro experience in the Latin Quarter sounds absolutely divine! I'm always on the lookout for the most luxurious dining experiences when I travel, and your post has definitely given me some inspiration.\", created_utc + datetime.timedelta(hours=7))"
   ]
  },
  {
   "cell_type": "code",
   "execution_count": 1145,
   "id": "c5f3dec3",
   "metadata": {},
   "outputs": [],
   "source": [
    "comment8 = Comment(7, 68, 'FlowerPower', \"While I appreciate the beauty of Paris's architecture, I find it concerning that you didn't mention any of the city's efforts to combat climate change or preserve its natural spaces. As a conscious traveler, I believe it's important to consider the environmental impact of our trips.\", created_utc + datetime.timedelta(hours=8))"
   ]
  },
  {
   "cell_type": "code",
   "execution_count": 1146,
   "id": "8c6e059c",
   "metadata": {},
   "outputs": [],
   "source": [
    "comment9 = Comment(7, 69, 'ArtEnthusiast', \"I'm so glad you had the opportunity to explore the Louvre Museum, but I'm surprised you didn't mention any of the other art galleries or exhibitions in Paris. As someone who's interested in contemporary art, I found the Palais de Tokyo and the Fondation Louis Vuitton to be must-see sites.\", created_utc + datetime.timedelta(hours=9))"
   ]
  },
  {
   "cell_type": "code",
   "execution_count": 1147,
   "id": "a74d16fa",
   "metadata": {},
   "outputs": [],
   "source": [
    "comment10 = Comment(7, 70, 'RomanticTraveler', \"Your descriptions of Paris's charming cafes and streets are making my heart flutter! I'm planning a romantic trip to Paris with my partner, and your post has given me some great ideas for romantic spots to visit.\", created_utc + datetime.timedelta(hours=10))"
   ]
  },
  {
   "cell_type": "code",
   "execution_count": 1148,
   "id": "1a09e4a2",
   "metadata": {},
   "outputs": [],
   "source": [
    "comments7 = comment1, comment2, comment3, comment4, comment5, comment6, comment7, comment8, comment9, comment10"
   ]
  },
  {
   "cell_type": "code",
   "execution_count": 1149,
   "id": "0e372763",
   "metadata": {},
   "outputs": [],
   "source": [
    "post7 = Post(authorid=1, id=7, title=title, author=author, tags=tags, preview=preview, content=content, comments=comments7, created_utc = created_utc_7) "
   ]
  },
  {
   "cell_type": "code",
   "execution_count": null,
   "id": "b5759852",
   "metadata": {},
   "outputs": [],
   "source": []
  },
  {
   "cell_type": "code",
   "execution_count": null,
   "id": "8dc5d69a",
   "metadata": {},
   "outputs": [],
   "source": []
  },
  {
   "cell_type": "code",
   "execution_count": null,
   "id": "fc4468ea",
   "metadata": {},
   "outputs": [],
   "source": []
  },
  {
   "cell_type": "code",
   "execution_count": 1150,
   "id": "d225bf90",
   "metadata": {},
   "outputs": [],
   "source": [
    "title = 'Why I Switched to a Plant-Based Diet'"
   ]
  },
  {
   "cell_type": "code",
   "execution_count": 1151,
   "id": "66e28c65",
   "metadata": {},
   "outputs": [],
   "source": [
    "author = SarahLane.name"
   ]
  },
  {
   "cell_type": "code",
   "execution_count": 1152,
   "id": "36f62326",
   "metadata": {},
   "outputs": [],
   "source": [
    "tags = [Food.name]"
   ]
  },
  {
   "cell_type": "code",
   "execution_count": 1153,
   "id": "68859e80",
   "metadata": {},
   "outputs": [],
   "source": [
    "posttags.append(PostTag(8, Food.id))"
   ]
  },
  {
   "cell_type": "code",
   "execution_count": 1154,
   "id": "71d1208f",
   "metadata": {},
   "outputs": [],
   "source": [
    "created_utc_8 = basetime - datetime.timedelta(days=9)"
   ]
  },
  {
   "cell_type": "code",
   "execution_count": 1155,
   "id": "f4299a12",
   "metadata": {},
   "outputs": [
    {
     "data": {
      "text/plain": [
       "\"\\nAre you curious about the benefits of a plant-based diet? In this blog post, I'll be sharing my personal journey from being a dedicated meat-eater to embracing a plant-based lifestyle.\\n\""
      ]
     },
     "execution_count": 1155,
     "metadata": {},
     "output_type": "execute_result"
    }
   ],
   "source": [
    "'''\n",
    "Are you curious about the benefits of a plant-based diet? In this blog post, I'll be sharing my personal journey from being a dedicated meat-eater to embracing a plant-based lifestyle.\n",
    "'''"
   ]
  },
  {
   "cell_type": "code",
   "execution_count": 1156,
   "id": "67fca492",
   "metadata": {},
   "outputs": [],
   "source": [
    "content = '''\n",
    "For years, I was a dedicated meat-eater, consuming everything from juicy burgers to succulent steaks on a regular basis. However, over time, I began to feel increasingly uncomfortable with the environmental and ethical implications of my diet. After doing some research and soul-searching, I made the decision to switch to a plant-based diet - and I haven't looked back since.\n",
    "\n",
    "One of the biggest motivators for me in making the switch was concern for the environment. The meat and dairy industries are responsible for a staggering amount of greenhouse gas emissions, deforestation, and water pollution, and I felt that it was my responsibility as a conscientious citizen to reduce my impact on the planet. By cutting out meat and dairy products, I'm able to significantly reduce my carbon footprint and live more sustainably.\n",
    "\n",
    "But beyond environmental concerns, I was also troubled by the ethical implications of consuming animal products. The meat and dairy industries are notorious for their mistreatment of animals, subjecting them to inhumane conditions and practices in order to maximize profits. As someone who believes in treating all living beings with respect and compassion, I couldn't continue to support these industries with my consumption choices.\n",
    "\n",
    "Since switching to a plant-based diet, I've noticed a number of positive changes in my health and wellbeing as well. I have more energy, clearer skin, and better digestion than I did when I was consuming meat and dairy products. I've also discovered a whole new world of delicious and nutritious plant-based foods, from hearty lentil stews to flavorful tofu scrambles.\n",
    "\n",
    "Of course, making the switch to a plant-based diet isn't always easy. It requires a significant shift in mindset and lifestyle, and can be challenging to navigate at first. But for me, the benefits of living a more environmentally sustainable, ethically conscious, and healthy lifestyle far outweigh any difficulties or inconveniences.\n",
    "\n",
    "In conclusion, I'm grateful for my decision to switch to a plant-based diet, and I would encourage anyone who's considering making the switch to give it a try. Whether you're motivated by environmental concerns, ethical considerations, or personal health goals, a plant-based diet can offer a wealth of benefits for both your own wellbeing and the planet as a whole.\n",
    "'''"
   ]
  },
  {
   "cell_type": "code",
   "execution_count": 1157,
   "id": "16347e50",
   "metadata": {},
   "outputs": [],
   "source": [
    "comment1 = Comment(8, 71, 'HawaiiLover', \"I respect your decision to switch to a plant-based diet, but I could never give up the taste and satisfaction of meat. As a carnivore, I feel that humans are designed to eat meat and that it's an important source of protein and other essential nutrients.\", created_utc + datetime.timedelta(hours=1))"
   ]
  },
  {
   "cell_type": "code",
   "execution_count": 1158,
   "id": "061e4742",
   "metadata": {},
   "outputs": [],
   "source": [
    "comment2 = Comment(8, 72, 'AnimalRightsAreHumanRights', \"I'm so glad to see more people waking up to the ethical implications of consuming animal products. The meat and dairy industries are responsible for so much cruelty and suffering, and every person who switches to a plant-based diet is making a positive impact on the world.\", created_utc + datetime.timedelta(hours=2))"
   ]
  },
  {
   "cell_type": "code",
   "execution_count": 1159,
   "id": "59a805d6",
   "metadata": {},
   "outputs": [],
   "source": [
    "comment3 = Comment(8, 73, 'HealthNut', \"I appreciate your focus on the health benefits of a plant-based diet. As someone who's always looking for ways to optimize my health and wellbeing, I believe that a diet rich in whole, plant-based foods is one of the best things you can do for your body.\", created_utc + datetime.timedelta(hours=3))"
   ]
  },
  {
   "cell_type": "code",
   "execution_count": 1160,
   "id": "1e5b3b81",
   "metadata": {},
   "outputs": [],
   "source": [
    "comment4 = Comment(8, 74, 'InconvenientlyTrue', \"Your emphasis on the environmental impact of animal agriculture is spot on. We're facing a climate crisis, and reducing our consumption of meat and dairy products is one of the most effective ways to mitigate our impact on the planet. I applaud your decision to make a positive change for the environment.\", created_utc + datetime.timedelta(hours=4))"
   ]
  },
  {
   "cell_type": "code",
   "execution_count": 1161,
   "id": "08a73c9d",
   "metadata": {},
   "outputs": [],
   "source": [
    "comment5 = Comment(8, 75, 'Flexitarian', \"I appreciate the principles behind a plant-based diet, but I find it difficult to give up meat entirely. As a flexitarian, I try to reduce my consumption of animal products as much as possible, but I also believe in balance and moderation. It's all about finding what works for you and your lifestyle.\", created_utc + datetime.timedelta(hours=5))"
   ]
  },
  {
   "cell_type": "code",
   "execution_count": 1162,
   "id": "30f50da5",
   "metadata": {},
   "outputs": [],
   "source": [
    "comments8 = comment1, comment2, comment3, comment4, comment5"
   ]
  },
  {
   "cell_type": "code",
   "execution_count": 1163,
   "id": "b55d76ab",
   "metadata": {},
   "outputs": [],
   "source": [
    "post8 = Post(authorid=1, id=8, title=title, author=author, tags=tags, preview=preview, content=content, comments=comments8, created_utc = created_utc_8) "
   ]
  },
  {
   "cell_type": "code",
   "execution_count": null,
   "id": "524ee949",
   "metadata": {},
   "outputs": [],
   "source": []
  },
  {
   "cell_type": "code",
   "execution_count": null,
   "id": "e8ebb4f4",
   "metadata": {},
   "outputs": [],
   "source": []
  },
  {
   "cell_type": "code",
   "execution_count": null,
   "id": "aa511f6e",
   "metadata": {},
   "outputs": [],
   "source": []
  },
  {
   "cell_type": "code",
   "execution_count": 1164,
   "id": "29786650",
   "metadata": {},
   "outputs": [],
   "source": [
    "title = '10 Tips for a Productive Workday'"
   ]
  },
  {
   "cell_type": "code",
   "execution_count": 1165,
   "id": "4375efc4",
   "metadata": {},
   "outputs": [],
   "source": [
    "author = MaraKhan.name"
   ]
  },
  {
   "cell_type": "code",
   "execution_count": 1166,
   "id": "d4cbdccf",
   "metadata": {},
   "outputs": [],
   "source": [
    "tags = [Productivity.name]"
   ]
  },
  {
   "cell_type": "code",
   "execution_count": 1167,
   "id": "3751a601",
   "metadata": {},
   "outputs": [],
   "source": [
    "posttags.append(PostTag(9, Productivity.id))"
   ]
  },
  {
   "cell_type": "code",
   "execution_count": 1168,
   "id": "1a0cf620",
   "metadata": {},
   "outputs": [],
   "source": [
    "created_utc_9 = basetime - datetime.timedelta(days=10)"
   ]
  },
  {
   "cell_type": "code",
   "execution_count": 1169,
   "id": "247cf837",
   "metadata": {},
   "outputs": [],
   "source": [
    "preview ='''\n",
    "Do you ever feel like you're not getting anything done during the workday? Do you struggle to stay focused and productive? In this blog post, we'll share ten tips to help you make the most of your time and have a fulfilling and productive workday. From starting with a plan to taking care of yourself, these tips will help you stay on track and achieve your goals.\n",
    "'''"
   ]
  },
  {
   "cell_type": "code",
   "execution_count": 1170,
   "id": "9b80b949",
   "metadata": {},
   "outputs": [],
   "source": [
    "content = '''\n",
    "We all have days where we feel like we're spinning our wheels and not getting anything done. But with a little bit of intentionality and planning, it's possible to have a productive and fulfilling workday. Here are ten tips to help you make the most of your time:\n",
    "\n",
    "Start with a plan: Before you begin your workday, take a few minutes to create a plan for what you want to accomplish. Write down your goals and prioritize them in order of importance.\n",
    "\n",
    "Eliminate distractions: Turn off your phone notifications, close unnecessary tabs on your computer, and do whatever else you need to do to eliminate distractions and stay focused on your work.\n",
    "\n",
    "Take breaks: It might seem counterintuitive, but taking breaks throughout the day can actually improve your productivity. Take a few minutes every hour or so to stretch, walk around, or grab a healthy snack.\n",
    "\n",
    "Set boundaries: If you work from home or have a flexible schedule, it can be tempting to work all hours of the day and night. But it's important to set boundaries and establish a healthy work-life balance.\n",
    "\n",
    "Prioritize tasks: Don't try to tackle everything at once. Instead, prioritize your tasks and focus on the most important and time-sensitive ones first.\n",
    "\n",
    "Stay organized: Keep your workspace tidy and organized, and make use of tools like calendars and to-do lists to stay on top of your tasks.\n",
    "\n",
    "Avoid multitasking: Contrary to popular belief, multitasking is not an effective way to get things done. Instead, focus on one task at a time and give it your full attention.\n",
    "\n",
    "Get moving: Exercise and physical activity can help to boost your energy and productivity. Consider taking a quick walk or doing some light stretching to get your blood flowing and your mind focused.\n",
    "\n",
    "Stay positive: Maintaining a positive attitude can go a long way towards staying motivated and productive throughout the day. Focus on the progress you've made rather than dwelling on setbacks or mistakes.\n",
    "\n",
    "Take care of yourself: Above all, it's important to take care of your physical and emotional wellbeing. Make sure you're getting enough sleep, eating a healthy diet, and taking time for activities that bring you joy and fulfillment.\n",
    "\n",
    "Incorporating these tips into your daily routine can help you to have a more productive, fulfilling, and enjoyable workday. So why not give them a try today and see what a difference they can make?\n",
    "'''"
   ]
  },
  {
   "cell_type": "code",
   "execution_count": 1171,
   "id": "3a9bdff9",
   "metadata": {},
   "outputs": [],
   "source": [
    "comment1 = Comment(9, 76, 'Overpower', \"These tips are great, but I think they're just the beginning. To really maximize productivity, you need to wake up early, work long hours, and push yourself to the limit. I believe in working hard and achieving big goals, no matter what it takes.\", created_utc + datetime.timedelta(hours=1))"
   ]
  },
  {
   "cell_type": "code",
   "execution_count": 1172,
   "id": "d3864556",
   "metadata": {},
   "outputs": [],
   "source": [
    "comment2 = Comment(9, 77, 'LifeLore', \"As someone who struggles with work-life balance, I appreciate the emphasis on setting boundaries and taking breaks. It's so important to prioritize your mental and emotional wellbeing, even when you're trying to be productive.\", created_utc + datetime.timedelta(hours=2))"
   ]
  },
  {
   "cell_type": "code",
   "execution_count": 1173,
   "id": "1a7598cf",
   "metadata": {},
   "outputs": [],
   "source": [
    "comment3 = Comment(9, 78, 'SkepticalSally', \"I'm not convinced that these tips will actually make me more productive. I've tried a lot of productivity hacks in the past, and I always seem to end up feeling burned out and stressed. Maybe productivity isn't the end-all-be-all of success.\", created_utc + datetime.timedelta(hours=3))"
   ]
  },
  {
   "cell_type": "code",
   "execution_count": 1174,
   "id": "d3aa9981",
   "metadata": {},
   "outputs": [],
   "source": [
    "comment4 = Comment(9, 79, 'TaskMaster', \"Prioritizing tasks and staying organized are the keys to productivity, in my opinion. I love using tools like calendars and to-do lists to keep myself on track and ensure that I'm making progress towards my goals every day.\", created_utc + datetime.timedelta(hours=4))"
   ]
  },
  {
   "cell_type": "code",
   "execution_count": 1175,
   "id": "b9cf6ba2",
   "metadata": {},
   "outputs": [],
   "source": [
    "comment5 = Comment(9, 80, 'HolyAdvocate', \"I'm so glad to see a focus on self-care and positive thinking in these tips. It's easy to get caught up in the hustle and bustle of work and forget to take care of yourself. By prioritizing self-care and staying positive, you can achieve a better work-life balance and be more productive in the long run.\", created_utc + datetime.timedelta(hours=5))"
   ]
  },
  {
   "cell_type": "code",
   "execution_count": 1176,
   "id": "9dd017d6",
   "metadata": {},
   "outputs": [],
   "source": [
    "comments9 = comment1, comment2, comment3, comment4, comment5"
   ]
  },
  {
   "cell_type": "code",
   "execution_count": 1177,
   "id": "36ad88c6",
   "metadata": {},
   "outputs": [],
   "source": [
    "post9 = Post(authorid=4, id=9, title=title, author=author, tags=tags, preview=preview, content=content, comments=comments9, created_utc = created_utc_9)"
   ]
  },
  {
   "cell_type": "code",
   "execution_count": null,
   "id": "a2b73ffe",
   "metadata": {},
   "outputs": [],
   "source": []
  },
  {
   "cell_type": "code",
   "execution_count": null,
   "id": "68309160",
   "metadata": {},
   "outputs": [],
   "source": []
  },
  {
   "cell_type": "code",
   "execution_count": null,
   "id": "1e15a9b4",
   "metadata": {},
   "outputs": [],
   "source": []
  },
  {
   "cell_type": "code",
   "execution_count": 1178,
   "id": "cf92564a",
   "metadata": {},
   "outputs": [],
   "source": [
    "title = \"The subtle joys of Animal Crossing\""
   ]
  },
  {
   "cell_type": "code",
   "execution_count": 1179,
   "id": "5e83caf4",
   "metadata": {},
   "outputs": [],
   "source": [
    "author = MaraKhan.name"
   ]
  },
  {
   "cell_type": "code",
   "execution_count": 1180,
   "id": "b5b89227",
   "metadata": {},
   "outputs": [],
   "source": [
    "tags = [Games.name]"
   ]
  },
  {
   "cell_type": "code",
   "execution_count": 1181,
   "id": "61476852",
   "metadata": {},
   "outputs": [],
   "source": [
    "posttags.append(PostTag(10, Games.id))"
   ]
  },
  {
   "cell_type": "code",
   "execution_count": 1182,
   "id": "ae525f28",
   "metadata": {},
   "outputs": [],
   "source": [
    "created_utc_10 = basetime - datetime.timedelta(days=11)"
   ]
  },
  {
   "cell_type": "code",
   "execution_count": 1183,
   "id": "15daf31d",
   "metadata": {},
   "outputs": [],
   "source": [
    "preview = \"An exciting new expansion marks a great time to get into this beloved game. Mara also examines how the game's themes of equality and cooperation resonate with players around the world.\""
   ]
  },
  {
   "cell_type": "code",
   "execution_count": 1184,
   "id": "df00af28",
   "metadata": {},
   "outputs": [],
   "source": [
    "content = '''\n",
    "Animal Crossing has been a beloved game for many years, with players around the world enjoying the simple pleasure of building and maintaining their own virtual island. But in a surprising move, Nintendo has announced a new expansion for the game that appears to be heavily inspired by George Orwell's classic novel, Animal Farm.\n",
    "\n",
    "The expansion, titled Animal Crossing: Revolution, takes place on an island ruled by a group of animals who have overthrown their human oppressors and established their own society. Players take on the role of a new arrival on the island, tasked with helping to build the new society and maintain harmony among its animal inhabitants.\n",
    "\n",
    "The parallels to Animal Farm are clear: both stories feature a group of oppressed animals overthrowing their human masters and establishing their own society. But while Animal Farm is a scathing critique of totalitarianism and the corruption of power, Animal Crossing: Revolution appears to take a more optimistic view of animal-led governance.\n",
    "\n",
    "In Animal Crossing: Revolution, the animals have created a society where all creatures are equal and work together for the common good. The player's job is to help maintain this balance, ensuring that resources are distributed fairly and that all animals have a say in the island's governance. There is no oppression, no exploitation, and no corruption - just a peaceful, idyllic community of animals living in harmony.\n",
    "\n",
    "It's a surprising move for Nintendo, whose previous Animal Crossing games have focused on the joys of community-building and the simple pleasures of life on a deserted island. But perhaps it's a sign of the times - with growing concerns about inequality, climate change, and the abuse of power, it's no wonder that a game like Animal Crossing: Revolution has struck a chord with players around the world.\n",
    "\n",
    "Of course, not everyone is thrilled about the new expansion. Some critics have accused Nintendo of trying to cash in on the popularity of Animal Farm, while others worry that the game's message of peaceful coexistence may be unrealistic in the face of real-world problems. But for many players, Animal Crossing: Revolution is a refreshing change of pace - a game that offers a glimpse of a better world, where animals and humans can live together in peace and harmony.\n",
    "'''"
   ]
  },
  {
   "cell_type": "code",
   "execution_count": 1185,
   "id": "6946a3b9",
   "metadata": {},
   "outputs": [],
   "source": [
    "comment1 = Comment(10, 81, 'Overpower', \"Wow, I never thought I'd see the day when Animal Crossing and Animal Farm would intersect! It's definitely an interesting concept and I'm curious to see how Nintendo will handle it. I hope they stay true to the themes of Animal Farm and don't water it down too much for a family-friendly game.\", created_utc + datetime.timedelta(hours=1))"
   ]
  },
  {
   "cell_type": "code",
   "execution_count": 1186,
   "id": "29a109ad",
   "metadata": {},
   "outputs": [],
   "source": [
    "comment2 = Comment(10, 82, 'LifeLore', \"I'm not sure how I feel about this. Animal Farm is a powerful allegory and it seems like Nintendo is trivializing it by turning it into a cute game. On the other hand, if they manage to convey the message of equality and cooperation in a meaningful way, it could be a great way to introduce these ideas to a younger audience.\", created_utc + datetime.timedelta(hours=2))"
   ]
  },
  {
   "cell_type": "code",
   "execution_count": 1187,
   "id": "a86fdb3b",
   "metadata": {},
   "outputs": [],
   "source": [
    "comment3 = Comment(10, 83, 'HawaiiLover', \"I've always loved Animal Crossing and the idea of a society of animals working together sounds so charming. I'm excited to see how the game will explore the themes of governance and resource distribution. It's refreshing to see a game that's not all about competition and winning.\", created_utc + datetime.timedelta(hours=3))"
   ]
  },
  {
   "cell_type": "code",
   "execution_count": 1188,
   "id": "94e534b7",
   "metadata": {},
   "outputs": [],
   "source": [
    "comment4 = Comment(10, 84, 'MindfulMama', \"I'm a bit skeptical about the message of Animal Crossing: Revolution. While it's nice to imagine a world where everyone gets along, the reality is that there will always be power struggles and conflicts. I hope the game acknowledges this and doesn't present an overly idealized version of animal-led governance.\", created_utc + datetime.timedelta(hours=4))"
   ]
  },
  {
   "cell_type": "code",
   "execution_count": 1189,
   "id": "d7b55796",
   "metadata": {},
   "outputs": [],
   "source": [
    "comment5 = Comment(10, 85, 'CosmicExplorer', \"I think Animal Crossing: Revolution could be a great opportunity for parents to have meaningful conversations with their children about equality and cooperation. It's important for kids to learn about these concepts from a young age, and if the game can present them in a fun and engaging way, all the better!\", created_utc + datetime.timedelta(hours=5))"
   ]
  },
  {
   "cell_type": "code",
   "execution_count": 1190,
   "id": "704f3e26",
   "metadata": {},
   "outputs": [],
   "source": [
    "comments10 = comment1, comment2, comment3, comment4, comment5"
   ]
  },
  {
   "cell_type": "code",
   "execution_count": 1191,
   "id": "1a69bbba",
   "metadata": {},
   "outputs": [],
   "source": [
    "post10 = Post(authorid=4, id=10, title=title, author=author, tags=tags, preview=preview, content=content, comments=comments10, created_utc = created_utc_10) "
   ]
  },
  {
   "cell_type": "code",
   "execution_count": null,
   "id": "e953880f",
   "metadata": {},
   "outputs": [],
   "source": []
  },
  {
   "cell_type": "code",
   "execution_count": null,
   "id": "2c822d6f",
   "metadata": {},
   "outputs": [],
   "source": []
  },
  {
   "cell_type": "code",
   "execution_count": null,
   "id": "52f598c9",
   "metadata": {},
   "outputs": [],
   "source": []
  },
  {
   "cell_type": "code",
   "execution_count": 1192,
   "id": "99a77b8f",
   "metadata": {},
   "outputs": [],
   "source": [
    "title = \"The Ultimate Guide to Becoming a Successful Dog Walker\""
   ]
  },
  {
   "cell_type": "code",
   "execution_count": 1193,
   "id": "bc854fcb",
   "metadata": {},
   "outputs": [],
   "source": [
    "author = DohnJoe.name"
   ]
  },
  {
   "cell_type": "code",
   "execution_count": 1194,
   "id": "df66670f",
   "metadata": {},
   "outputs": [],
   "source": [
    "tags = [Career.name]"
   ]
  },
  {
   "cell_type": "code",
   "execution_count": 1195,
   "id": "7301e2a1",
   "metadata": {},
   "outputs": [],
   "source": [
    "posttags.append(PostTag(11, Career.id))"
   ]
  },
  {
   "cell_type": "code",
   "execution_count": 1196,
   "id": "5d318719",
   "metadata": {},
   "outputs": [],
   "source": [
    "created_utc_11 = basetime - datetime.timedelta(days=12)"
   ]
  },
  {
   "cell_type": "code",
   "execution_count": 1197,
   "id": "a2f58123",
   "metadata": {},
   "outputs": [],
   "source": [
    "preview = \"Discover the essential steps to becoming a successful dog walker and learn how to turn your passion for dogs into a thriving business.\""
   ]
  },
  {
   "cell_type": "code",
   "execution_count": 1198,
   "id": "77780b74",
   "metadata": {},
   "outputs": [],
   "source": [
    "content = '''\n",
    "If you're a dog lover and enjoy spending time outdoors, starting a dog walking business can be an excellent way to combine your passions and earn a living. However, becoming a successful dog walker involves more than just walking dogs around the neighborhood. In this guide, we'll explore the essential steps to help you establish a thriving dog walking business.\n",
    "\n",
    "1. Develop your dog handling skills\n",
    "\n",
    "Before starting your dog walking business, it's crucial to have a good understanding of dog behavior, breeds, and basic training techniques. You can gain this knowledge by volunteering at local shelters, attending dog training classes, or reading books and articles on dog behavior and care.\n",
    "\n",
    "2. Create a business plan\n",
    "\n",
    "A well-thought-out business plan will help you set achievable goals and strategies for your dog walking business. Include details like your target market, pricing, marketing strategies, and financial projections. This plan will serve as a roadmap for your business and help you stay on track as you grow.\n",
    "\n",
    "3. Obtain necessary permits and insurance\n",
    "\n",
    "Depending on your location, you may need a business license or permit to operate a dog walking business. Check with your local government to determine the specific requirements. Additionally, invest in liability insurance to protect yourself and your clients in case of accidents or injuries.\n",
    "\n",
    "4. Set competitive rates\n",
    "\n",
    "Research the local market and determine the average rates for dog walking services in your area. Price your services competitively, keeping in mind your experience, skills, and the quality of service you provide.\n",
    "\n",
    "5. Develop a branding and marketing strategy\n",
    "\n",
    "Create a unique brand identity to set your business apart from competitors. Design a logo, choose a business name, and establish a consistent visual style. Then, promote your business through various marketing channels like social media, local newspapers, and community bulletin boards. Don't forget to ask for referrals from satisfied clients.\n",
    "\n",
    "6. Offer additional services\n",
    "\n",
    "Consider offering additional services like pet sitting, dog training, or grooming to increase your income potential. These services can also make your business more appealing to potential clients.\n",
    "\n",
    "7. Provide excellent customer service\n",
    "\n",
    "Building a strong reputation is crucial for the success of your dog walking business. Always be punctual, reliable, and professional when dealing with clients. Keep open lines of communication and be responsive to their needs and concerns.\n",
    "\n",
    "8. Network with other pet professionals\n",
    "\n",
    "Establish connections with local veterinarians, groomers, and pet store owners. These professionals can refer clients to you or provide valuable advice on growing your business.\n",
    "\n",
    "9. Invest in tools and equipment\n",
    "\n",
    "Purchase high-quality leashes, harnesses, and collars to ensure the safety and comfort of the dogs you walk. You may also want to invest in dog waste bags, treats, and toys to enhance your services.\n",
    "\n",
    "10. Keep learning and improving\n",
    "\n",
    "Stay updated on the latest dog care trends and techniques by attending workshops, seminars, and conferences. Continuously improving your skills and knowledge will help you provide the best possible service to your clients and their furry companions.\n",
    "\n",
    "In conclusion, becoming a successful dog walker requires a combination of passion for dogs, excellent customer service, and a strong work ethic. By following these steps and consistently striving to improve, you'll be well on your way to establishing a thriving dog walking business.\n",
    "'''"
   ]
  },
  {
   "cell_type": "code",
   "execution_count": 1199,
   "id": "bd3c0ef1",
   "metadata": {},
   "outputs": [],
   "source": [
    "comment1 = Comment(11, 86, 'MindfulMama', \"Great post! I've been considering starting my own dog walking business, and this guide has given me the confidence to take the leap.\", created_utc + datetime.timedelta(hours=2))"
   ]
  },
  {
   "cell_type": "code",
   "execution_count": 1200,
   "id": "ea62418a",
   "metadata": {},
   "outputs": [],
   "source": [
    "comment2 = Comment(11, 87, 'PawsitiveVibes', \"Love the idea of offering additional services! It's a great way to stand out from the competition and provide even more value to clients.\", created_utc + datetime.timedelta(hours=3))"
   ]
  },
  {
   "cell_type": "code",
   "execution_count": 1201,
   "id": "b812b766",
   "metadata": {},
   "outputs": [],
   "source": [
    "comments11 = comment1, comment2"
   ]
  },
  {
   "cell_type": "code",
   "execution_count": 1202,
   "id": "188cf468",
   "metadata": {},
   "outputs": [],
   "source": [
    "post11 = Post(authorid=5, id=11, title=title, author=author, tags = tags, preview=preview, content=content, comments=comments11, created_utc = created_utc_11) "
   ]
  },
  {
   "cell_type": "code",
   "execution_count": null,
   "id": "f2386c3a",
   "metadata": {},
   "outputs": [],
   "source": []
  },
  {
   "cell_type": "code",
   "execution_count": null,
   "id": "f6d7fa6b",
   "metadata": {},
   "outputs": [],
   "source": []
  },
  {
   "cell_type": "code",
   "execution_count": null,
   "id": "409192c6",
   "metadata": {},
   "outputs": [],
   "source": []
  },
  {
   "cell_type": "code",
   "execution_count": 1203,
   "id": "320e6253",
   "metadata": {},
   "outputs": [],
   "source": [
    "title = \"Urban Gardening: Transforming Tiny Spaces into Lush Green Oases\""
   ]
  },
  {
   "cell_type": "code",
   "execution_count": 1204,
   "id": "42fb1ff4",
   "metadata": {},
   "outputs": [],
   "source": [
    "author = JaneKawra.name"
   ]
  },
  {
   "cell_type": "code",
   "execution_count": 1205,
   "id": "2013b3c5",
   "metadata": {},
   "outputs": [],
   "source": [
    "tags = [Gardening.name]"
   ]
  },
  {
   "cell_type": "code",
   "execution_count": 1206,
   "id": "aaeea33a",
   "metadata": {},
   "outputs": [],
   "source": [
    "posttags.append(PostTag(12, Gardening.id))"
   ]
  },
  {
   "cell_type": "code",
   "execution_count": 1207,
   "id": "95d7abbd",
   "metadata": {},
   "outputs": [],
   "source": [
    "created_utc_12 = basetime - datetime.timedelta(days=13)"
   ]
  },
  {
   "cell_type": "code",
   "execution_count": 1208,
   "id": "568e7e42",
   "metadata": {},
   "outputs": [],
   "source": [
    "preview = \"Discover the magic of urban gardening and learn how to turn small spaces into thriving green sanctuaries, even in the heart of the city.\""
   ]
  },
  {
   "cell_type": "code",
   "execution_count": 1209,
   "id": "926152bc",
   "metadata": {},
   "outputs": [],
   "source": [
    "content = '''\n",
    "Urban gardening is rapidly gaining popularity as more people recognize the benefits of cultivating green spaces within city environments. Turning tiny areas into verdant green spaces not only improves air quality and well-being, but also provides an opportunity to grow fresh produce and connect with nature. In this post, we'll explore some creative ways to transform small urban spaces into lush, thriving gardens.\n",
    "\n",
    "1. Choose the right plants\n",
    "\n",
    "When working with limited space, it's essential to choose plants that are suitable for your specific environment. Opt for compact, hardy plants that can tolerate urban conditions, such as pollution and limited sunlight. Some great options include herbs, leafy greens, and dwarf fruit trees.\n",
    "\n",
    "2. Utilize vertical space\n",
    "\n",
    "Vertical gardening is a fantastic way to maximize space and add visual interest to your urban garden. Install trellises, shelves, or hanging planters on walls or fences to grow climbing plants, such as beans, peas, and tomatoes. You can also create a green wall by attaching rows of small planters to a vertical surface.\n",
    "\n",
    "3. Use containers and raised beds\n",
    "\n",
    "Containers and raised beds offer flexibility and mobility, making them ideal for urban gardening. They allow you to grow a variety of plants in small spaces and easily move them as needed for optimal sun exposure. Choose containers with proper drainage and fill them with high-quality potting soil to ensure healthy plant growth.\n",
    "\n",
    "4. Incorporate edible plants\n",
    "\n",
    "Growing edible plants in your urban garden not only saves space but also provides you with fresh, organic produce. Herbs, such as basil, rosemary, and mint, are excellent choices for small spaces, while compact fruiting plants like cherry tomatoes, strawberries, and peppers can thrive in containers or hanging baskets.\n",
    "\n",
    "5. Opt for multi-functional elements\n",
    "\n",
    "Incorporate furniture and decorative elements that serve multiple purposes to make the most of your limited space. For example, use benches with built-in planters, or install a vertical garden that doubles as a privacy screen.\n",
    "\n",
    "6. Create a microclimate\n",
    "\n",
    "Grouping plants with similar environmental needs can help you create microclimates within your small garden space. For example, arrange shade-loving plants under taller, sun-loving plants to provide protection from harsh sunlight.\n",
    "\n",
    "7. Use smart watering techniques\n",
    "\n",
    "Efficient watering is essential for maintaining a healthy urban garden, especially in confined spaces. Install a drip irrigation system or use self-watering planters to conserve water and ensure that your plants receive the right amount of moisture.\n",
    "\n",
    "8. Attract beneficial insects\n",
    "\n",
    "Encourage pollinators and natural pest controllers by planting flowers that attract beneficial insects, such as bees, ladybugs, and butterflies. Incorporate native plants and provide a small water source to create a welcoming environment for these helpful creatures.\n",
    "\n",
    "9. Experiment with hydroponics or aeroponics\n",
    "\n",
    "If you're short on space, consider trying hydroponic or aeroponic systems, which allow you to grow plants without soil. These systems can be compact and highly efficient, making them ideal for urban gardeners with limited space.\n",
    "\n",
    "10. Be patient and persistent\n",
    "\n",
    "Creating a thriving urban garden in a tiny space may take time and effort, but the rewards are well worth it. Be patient, learn from your mistakes, and keep experimenting with new ideas to create your own unique green oasis.\n",
    "\n",
    "In conclusion, urban gardening offers a wealth of opportunities to transform even the smallest spaces into vibrant, green sanctuaries. By implementing these tips and embracing your creativity, you can cultivate a flourishing garden that enriches your city life and connects you with nature.\n",
    "'''"
   ]
  },
  {
   "cell_type": "code",
   "execution_count": 1210,
   "id": "dc49cbd8",
   "metadata": {},
   "outputs": [],
   "source": [
    "comment1 = Comment(12, 88, 'NatureNook', \"Attracting beneficial insects is a great tip for maintaining a healthy urban garden. I've noticed a significant improvement in my plants since I started planting flowers that attract bees and ladybugs.\", created_utc + datetime.timedelta(hours=2))"
   ]
  },
  {
   "cell_type": "code",
   "execution_count": 1211,
   "id": "c677d2db",
   "metadata": {},
   "outputs": [],
   "source": [
    "comment2 = Comment(12, 89, 'EcoWarrior', \"Incorporating edible plants into urban gardens is a game-changer! It's amazing to think that even in a city, we can grow our own fresh, organic produce.\", created_utc + datetime.timedelta(hours=4))"
   ]
  },
  {
   "cell_type": "code",
   "execution_count": 1212,
   "id": "46a9c63c",
   "metadata": {},
   "outputs": [],
   "source": [
    "comments12 = comment1, comment2"
   ]
  },
  {
   "cell_type": "code",
   "execution_count": 1213,
   "id": "3d0ae915",
   "metadata": {},
   "outputs": [],
   "source": [
    "post12 = Post(authorid=6, id=12, title=title, author=author, tags = tags, preview=preview, content=content, comments=comments12, created_utc = created_utc_12) "
   ]
  },
  {
   "cell_type": "code",
   "execution_count": null,
   "id": "9442e5f3",
   "metadata": {},
   "outputs": [],
   "source": []
  },
  {
   "cell_type": "code",
   "execution_count": null,
   "id": "450ddaef",
   "metadata": {},
   "outputs": [],
   "source": []
  },
  {
   "cell_type": "code",
   "execution_count": 1214,
   "id": "1e813468",
   "metadata": {},
   "outputs": [],
   "source": [
    "#The Legend of Gemini"
   ]
  },
  {
   "cell_type": "code",
   "execution_count": 1215,
   "id": "8420be8b",
   "metadata": {},
   "outputs": [],
   "source": [
    "title = \"The Intriguing World of Gemini: Celestial Twins and Legendary Geminis\""
   ]
  },
  {
   "cell_type": "code",
   "execution_count": 1216,
   "id": "11f7b547",
   "metadata": {},
   "outputs": [],
   "source": [
    "author = AnaAstra.name"
   ]
  },
  {
   "cell_type": "code",
   "execution_count": 1217,
   "id": "bf379951",
   "metadata": {},
   "outputs": [],
   "source": [
    "tags = [Spiritual.name, Astrology.name]"
   ]
  },
  {
   "cell_type": "code",
   "execution_count": 1218,
   "id": "9c53b58e",
   "metadata": {},
   "outputs": [],
   "source": [
    "posttags.append(PostTag(13, Spiritual.id))\n",
    "posttags.append(PostTag(13, Astrology.id))"
   ]
  },
  {
   "cell_type": "code",
   "execution_count": 1219,
   "id": "a430c53a",
   "metadata": {},
   "outputs": [],
   "source": [
    "created_utc_13 = basetime - datetime.timedelta(days=14)"
   ]
  },
  {
   "cell_type": "code",
   "execution_count": 1220,
   "id": "3da07196",
   "metadata": {},
   "outputs": [],
   "source": [
    "preview = \"From the origin of its name to famous Geminis throughout history, there's so much to uncover about this mutable air sign. Discover the personality traits that make Geminis so unique and how they've contributed to the world we live in today.\""
   ]
  },
  {
   "cell_type": "code",
   "execution_count": 1221,
   "id": "5e415d8f",
   "metadata": {},
   "outputs": [],
   "source": [
    "content = '''\n",
    "Hello Astrology Lovers,\n",
    "\n",
    "Today, we'll be diving into the fascinating world of Gemini, the third astrological sign in the zodiac. From the origin of its name to famous Geminis who have left an indelible mark on history, there's so much to explore about this mutable air sign. So, buckle up, and let's embark on this celestial journey.\n",
    "\n",
    "The Origin of the Name Gemini\n",
    "\n",
    "The name \"Gemini\" finds its roots in the Latin word for \"twins.\" It is no surprise, then, that this astrological sign is symbolized by the twins Castor and Pollux. These mythological figures were the sons of Leda, the Queen of Sparta, but had different fathers – Castor was the mortal son of King Tyndareus, while Pollux was the divine son of Zeus.\n",
    "\n",
    "The two brothers were inseparable and shared many adventures together. When Castor met his mortal end, Pollux was distraught and begged his father, Zeus, to reunite them. Moved by Pollux's love for his brother, Zeus placed the twins among the stars as the constellation Gemini. Since then, the constellation has come to represent the bond between siblings, friends, and companions.\n",
    "\n",
    "Famous Geminis Throughout History\n",
    "\n",
    "Geminis are known for their quick wit, versatility, and adaptability. These traits have enabled many Geminis to rise to prominence and leave their mark on the world in various fields. Let's take a look at some famous Geminis from history who have exemplified the characteristics of their sign:\n",
    "\n",
    "Marilyn Monroe (June 1, 1926)\n",
    "One of the most iconic actresses in history, Marilyn Monroe captivated audiences with her charm, talent, and beauty. Her Gemini traits of adaptability and quick wit were evident in her ability to play a variety of roles and captivate the hearts of millions.\n",
    "\n",
    "John F. Kennedy (May 29, 1917)\n",
    "The 35th President of the United States, JFK was renowned for his charisma and oratory skills. His Gemini qualities allowed him to connect with people from all walks of life and remain an influential figure in American history.\n",
    "\n",
    "Sir Arthur Conan Doyle (May 22, 1859)\n",
    "The creator of the legendary detective Sherlock Holmes, Sir Arthur Conan Doyle was a prolific writer who dabbled in various genres. His versatility as a writer and his imaginative storytelling abilities are classic Gemini traits that enabled him to leave a lasting literary legacy.\n",
    "\n",
    "Queen Victoria (May 24, 1819)\n",
    "The British monarch who oversaw a period of immense growth and change in her country, Queen Victoria was known for her strong will and determination. As a Gemini, she was able to adapt to the rapid changes of her time and guide her country through the challenges that came her way.\n",
    "\n",
    "Prince (June 7, 1958)\n",
    "An innovative and groundbreaking musician, Prince was known for his incredible talent and unique style. His Gemini nature shone through in his ability to experiment with different musical genres, creating a sound that was all his own.\n",
    "\n",
    "In Conclusion\n",
    "\n",
    "Geminis are known for their ability to adapt to different situations, their quick wit, and their versatile nature. Throughout history, famous individuals have stepped into the forefront of society and culture to show us everything these colorful individuals have to offer. \n",
    "'''"
   ]
  },
  {
   "cell_type": "code",
   "execution_count": 1222,
   "id": "b8e2e66e",
   "metadata": {},
   "outputs": [],
   "source": [
    "comment1 = Comment(13, 90, 'NatureNook', \"I love learning more about astrology and the zodiac signs! As a fellow Gemini, I definitely relate to the adaptability and quick wit traits mentioned. It's fascinating to see how these traits have manifested in famous Geminis throughout history.\", created_utc + datetime.timedelta(hours=1))"
   ]
  },
  {
   "cell_type": "code",
   "execution_count": 1223,
   "id": "b95c0f61",
   "metadata": {},
   "outputs": [],
   "source": [
    "comment2 = Comment(13, 91, 'EcoWarrior', \"I had no idea that the name Gemini originated from the Latin word for twins! Learning about the mythological origins of the constellation is so interesting. It's amazing how the bond between Castor and Pollux has been represented through the stars for centuries.\", created_utc + datetime.timedelta(hours=2))"
   ]
  },
  {
   "cell_type": "code",
   "execution_count": 1224,
   "id": "c69dbf0b",
   "metadata": {},
   "outputs": [],
   "source": [
    "comment3 = Comment(13, 92, 'Dreamwalker', \"As a fan of Marilyn Monroe, it's great to see her included in the list of famous Geminis. Her adaptability and versatility as an actress definitely made her stand out. It's inspiring to see how her Gemini traits helped her become such an iconic figure in Hollywood.\", created_utc + datetime.timedelta(hours=3))"
   ]
  },
  {
   "cell_type": "code",
   "execution_count": 1225,
   "id": "bc779c7c",
   "metadata": {},
   "outputs": [],
   "source": [
    "comment4 = Comment(13, 93, 'MeditativeMind', \"I'm always amazed by how accurate astrology can be in describing personality traits. Reading about the Gemini sign and the famous Geminis listed, it's clear how adaptable and versatile they can be. It makes me curious about the other signs and their corresponding traits!\", created_utc + datetime.timedelta(hours=4))"
   ]
  },
  {
   "cell_type": "code",
   "execution_count": 1226,
   "id": "391656c5",
   "metadata": {},
   "outputs": [],
   "source": [
    "comments13 = comment1, comment2, comment3, comment4"
   ]
  },
  {
   "cell_type": "code",
   "execution_count": 1227,
   "id": "cc244a2e",
   "metadata": {},
   "outputs": [],
   "source": [
    "post13 = Post(authorid=7, id=13, title=title, author=author, tags = tags, preview=preview, content=content, comments=comments13, created_utc = created_utc_13) "
   ]
  },
  {
   "cell_type": "code",
   "execution_count": null,
   "id": "bf8c178b",
   "metadata": {},
   "outputs": [],
   "source": []
  },
  {
   "cell_type": "code",
   "execution_count": null,
   "id": "4b6e72cb",
   "metadata": {},
   "outputs": [],
   "source": []
  },
  {
   "cell_type": "code",
   "execution_count": null,
   "id": "a77924bd",
   "metadata": {},
   "outputs": [],
   "source": []
  },
  {
   "cell_type": "code",
   "execution_count": 1228,
   "id": "521fd39e",
   "metadata": {},
   "outputs": [],
   "source": [
    "title = \"The Enigmatic World of Cancer: Celestial Crabs and Legendary Cancers\""
   ]
  },
  {
   "cell_type": "code",
   "execution_count": 1229,
   "id": "c0c1f056",
   "metadata": {},
   "outputs": [],
   "source": [
    "author = AnaAstra.name"
   ]
  },
  {
   "cell_type": "code",
   "execution_count": 1230,
   "id": "b0528ded",
   "metadata": {},
   "outputs": [],
   "source": [
    "tags = [Spiritual.name, Astrology.name]"
   ]
  },
  {
   "cell_type": "code",
   "execution_count": 1231,
   "id": "7eeee147",
   "metadata": {},
   "outputs": [],
   "source": [
    "posttags.append(PostTag(14, Spiritual.id))\n",
    "posttags.append(PostTag(14, Astrology.id))"
   ]
  },
  {
   "cell_type": "code",
   "execution_count": 1232,
   "id": "7ec38387",
   "metadata": {},
   "outputs": [],
   "source": [
    "created_utc_14 = basetime - datetime.timedelta(days=15)"
   ]
  },
  {
   "cell_type": "code",
   "execution_count": 1233,
   "id": "a2e67b16",
   "metadata": {},
   "outputs": [],
   "source": [
    "preview = \"In this article, we'll explore the world of Cancer, the fourth astrological sign in the zodiac. From the origin of its name to the famous Cancerians who have made their mark on history, we'll delve into the depths of Cancer's mystical realm. Discover the strengths of this cardinal water sign and how its emotional intelligence and intuition have inspired, created, and led to change throughout history.\""
   ]
  },
  {
   "cell_type": "code",
   "execution_count": 1234,
   "id": "6bbfadc2",
   "metadata": {},
   "outputs": [],
   "source": [
    "content = '''\n",
    "Today, we'll be exploring the mystical realm of Cancer, the fourth astrological sign in the zodiac. From the origin of its name to famous Cancerians who have made their mark on history, there's so much to discover about this cardinal water sign. So, let's delve into the depths of Cancer's world.\n",
    "\n",
    "The Origin of the Name Cancer\n",
    "\n",
    "The name \"Cancer\" is derived from the Latin word for \"crab.\" This astrological sign is symbolized by the crab, a creature known for its hard exterior and soft, sensitive interior. The connection between the crab and Cancer can be traced back to Greek mythology.\n",
    "\n",
    "The story goes that the hero Heracles was tasked with the labor of slaying the many-headed Hydra, a monstrous water serpent. Hera, the wife of Zeus and Heracles' nemesis, sent a giant crab named Karkinos to distract Heracles during his battle with the Hydra. Though the crab was ultimately defeated, Hera immortalized it among the stars as the constellation Cancer to honor its effort.\n",
    "\n",
    "Famous Cancers Throughout History\n",
    "\n",
    "Cancers are known for their emotional depth, intuition, and strong attachment to family and home. These traits have allowed many Cancerians to achieve great things and leave a lasting impact on the world. Let's take a look at some famous Cancers from history who exemplified the characteristics of their sign:\n",
    "\n",
    "Nelson Mandela (July 18, 1918)\n",
    "A towering figure in the fight against apartheid in South Africa, Nelson Mandela was known for his resilience, perseverance, and commitment to justice. His strong emotional core and intuitive understanding of people made him an inspiring leader and a symbol of hope for millions.\n",
    "\n",
    "Frida Kahlo (July 6, 1907)\n",
    "A renowned Mexican artist, Frida Kahlo's paintings were deeply personal and reflective of her inner struggles and emotions. As a Cancer, her ability to convey her feelings and experiences through her art resonated with audiences around the world.\n",
    "\n",
    "Princess Diana (July 1, 1961)\n",
    "Fondly remembered as \"The People's Princess,\" Princess Diana's caring and compassionate nature won her the hearts of people everywhere. Her Cancerian traits of empathy and emotional sensitivity made her an advocate for numerous charitable causes and endeared her to the public.\n",
    "\n",
    "Ernest Hemingway (July 21, 1899)\n",
    "One of the most celebrated authors in American literature, Ernest Hemingway was known for his distinct writing style and powerful storytelling. As a Cancer, his intuitive understanding of human emotions enabled him to create characters and narratives that still captivate readers today.\n",
    "\n",
    "Meryl Streep (June 22, 1949)\n",
    "A versatile and accomplished actress, Meryl Streep has portrayed an incredible range of characters throughout her career. Her Cancerian qualities of emotional depth and intuition have allowed her to connect with her roles on a profound level, earning her numerous accolades and the admiration of audiences worldwide.\n",
    "\n",
    "Versatility and Compassion\n",
    "\n",
    "Cancerians are known for their emotional intelligence, intuition, and strong connection to family and home. Throughout history, famous Cancers have made their mark on the world by tapping into these innate qualities and using them to inspire, create, and lead. Their legacy serves as a testament to the power of compassion, empathy, and understanding that is characteristic of this water sign. From artists and writers to leaders and humanitarians, Cancerians have shown that the depth of their emotions can be a source of strength, resilience, and inspiration for all.\n",
    "\n",
    "As we celebrate the achievements and impact of these legendary Cancerians, we are reminded of the importance of nurturing our emotional well-being and cultivating empathy for others. By connecting with our inner selves and appreciating the experiences and feelings of those around us, we can foster a world of greater understanding, compassion, and unity.\n",
    "'''"
   ]
  },
  {
   "cell_type": "code",
   "execution_count": 1235,
   "id": "c77059f2",
   "metadata": {},
   "outputs": [],
   "source": [
    "comment1 = Comment(14, 94, 'Protore', \"I've always been fascinated by the emotional depth of Cancers, and this article truly captured their essence. Learning about the famous Cancerians from history and how they've used their intuitive abilities to make a difference in the world was truly inspiring. As a Cancer myself, I feel a sense of pride in sharing these qualities with such remarkable individuals. Keep up the great work!\", created_utc + datetime.timedelta(hours=1))"
   ]
  },
  {
   "cell_type": "code",
   "execution_count": 1236,
   "id": "f18d6c1b",
   "metadata": {},
   "outputs": [],
   "source": [
    "comment2 = Comment(14, 95, 'EcoWarrior', \"As a Cancerian myself, I loved reading about these famous people who share my sign. It's inspiring to see how they've used their emotional intelligence to make a positive impact on the world.\", created_utc + datetime.timedelta(hours=2))"
   ]
  },
  {
   "cell_type": "code",
   "execution_count": 1237,
   "id": "64cb8a9d",
   "metadata": {},
   "outputs": [],
   "source": [
    "comment3 = Comment(14, 96, 'DreamWalker', \"I had no idea that the name 'Cancer' was derived from the Latin word for crab! It's fascinating to learn about the mythology behind the zodiac signs.\", created_utc + datetime.timedelta(hours=3))"
   ]
  },
  {
   "cell_type": "code",
   "execution_count": 1238,
   "id": "45f80105",
   "metadata": {},
   "outputs": [],
   "source": [
    "comments14 = comment1, comment2, comment3"
   ]
  },
  {
   "cell_type": "code",
   "execution_count": 1239,
   "id": "2d5e4f9e",
   "metadata": {},
   "outputs": [],
   "source": [
    "post14 = Post(authorid=7, id=14, title=title, author=author, tags = tags, preview=preview, content=content, comments=comments14, created_utc = created_utc_14) "
   ]
  },
  {
   "cell_type": "code",
   "execution_count": null,
   "id": "fd6eec6d",
   "metadata": {},
   "outputs": [],
   "source": []
  },
  {
   "cell_type": "code",
   "execution_count": null,
   "id": "4589ed5c",
   "metadata": {},
   "outputs": [],
   "source": []
  },
  {
   "cell_type": "code",
   "execution_count": null,
   "id": "f283770b",
   "metadata": {},
   "outputs": [],
   "source": []
  },
  {
   "cell_type": "code",
   "execution_count": 1240,
   "id": "0b3a7bc4",
   "metadata": {},
   "outputs": [],
   "source": [
    "title = \"How can I relate to my husband's gaming hobby?\""
   ]
  },
  {
   "cell_type": "code",
   "execution_count": 1241,
   "id": "a603230c",
   "metadata": {},
   "outputs": [],
   "source": [
    "author = SarahLane.name"
   ]
  },
  {
   "cell_type": "code",
   "execution_count": 1242,
   "id": "3ab115fe",
   "metadata": {},
   "outputs": [],
   "source": [
    "tags = [Games.name, Advice.name]"
   ]
  },
  {
   "cell_type": "code",
   "execution_count": 1243,
   "id": "ff45a7e3",
   "metadata": {},
   "outputs": [],
   "source": [
    "posttags.append(PostTag(15, Games.id))\n",
    "posttags.append(PostTag(15, Advice.id))"
   ]
  },
  {
   "cell_type": "code",
   "execution_count": 1244,
   "id": "ede938c1",
   "metadata": {},
   "outputs": [],
   "source": [
    "created_utc_15 = basetime - datetime.timedelta(days=16)"
   ]
  },
  {
   "cell_type": "code",
   "execution_count": 1245,
   "id": "d7ed9dc3",
   "metadata": {},
   "outputs": [],
   "source": [
    "preview = \"The letter expresses a wife's struggle to understand her husband's new hobby of streaming.\""
   ]
  },
  {
   "cell_type": "code",
   "execution_count": 1246,
   "id": "0821eb20",
   "metadata": {},
   "outputs": [],
   "source": [
    "content = '''\n",
    "Dear Editor,\n",
    "\n",
    "I am writing to you today to express my thoughts and feelings about my husband's new hobby. My husband has recently taken up streaming games on Twitch, particularly games like Dark Souls, to an audience of about four viewers. I must say, I find myself struggling to understand his hobby.\n",
    "\n",
    "As I sit in the next room, I can hear him shouting and screaming childishly when he dies in the game. It can be quite unnerving at times, but at the same time, I can see how much joy it brings him. He spends hours on end perfecting his gameplay, trying new strategies, and interacting with his small audience.\n",
    "\n",
    "As someone who has never been a gamer, I must admit that I find it hard to relate to his passion for streaming. But as his wife, I am proud of him for pursuing his interests and finding a community of like-minded individuals.\n",
    "\n",
    "Last night, I decided to surprise my husband with a \"health potion\" cocktail that I made myself. I thought it would be a fun and creative way to encourage him to take care of his health while also indulging in a delicious drink.\n",
    "\n",
    "I used fresh fruits and vegetables, a dash of honey, and some herbs to make the potion, which I then served in a fancy glass with a garnish on top. However, to my surprise, my husband took one sip of the cocktail and declared it \"normie and cringe.\"\n",
    "\n",
    "I believe that it is important to support our partners in their endeavors, even if we may not fully understand or share their passion. In my husband's case, his streaming has brought him a sense of purpose, a creative outlet, and a community of supportive friends. And in turn, I have found myself learning more about gaming culture and gaining a newfound appreciation for the dedication and skill required to succeed in this field.\n",
    "\n",
    "In conclusion, I am still learning to understand my husband's new hobby, but I am proud of him for pursuing his passions and finding a sense of fulfillment in streaming. It may not be my cup of tea, but I am happy to support him in any way I can.\n",
    "\n",
    "Sincerely,\n",
    "Laurie\n",
    "\n",
    "Dear Laurie,\n",
    "\n",
    "Thank you for your letter expressing your thoughts and feelings about your husband's new hobby of streaming games. It is heartwarming to read that you are trying to understand and support his interests, even if they may not be your cup of tea.\n",
    "\n",
    "It is important to recognize that everyone has their unique passions and interests, and what may seem like a childish or unproductive activity to one person may be a fulfilling and enjoyable pastime for another. Your husband's passion for streaming games is a creative outlet that allows him to express himself, connect with others, and develop his skills.\n",
    "\n",
    "As you mentioned, gaming culture is an expansive and growing community that offers diverse opportunities for engagement and interaction. Streaming games has become a popular way to connect with people from all over the world who share similar interests and form meaningful friendships.\n",
    "\n",
    "It is refreshing to read about your open-minded approach towards your husband's hobby, which showcases the importance of supporting our partners' interests, even if they may seem unusual or challenging to us. Your willingness to learn more about gaming culture and your husband's streaming efforts demonstrate a healthy level of curiosity, understanding, and respect towards his chosen activity.\n",
    "\n",
    "In conclusion, we appreciate you taking the time to share your thoughts with us, and we encourage you to continue to support your husband's passions and growth as an individual. We wish you and your husband all the best in your endeavors.\n",
    "\n",
    "Sincerely,\n",
    "Sarah Lane\n",
    "'''"
   ]
  },
  {
   "cell_type": "code",
   "execution_count": null,
   "id": "99366e14",
   "metadata": {},
   "outputs": [],
   "source": []
  },
  {
   "cell_type": "code",
   "execution_count": 1247,
   "id": "da7eb591",
   "metadata": {},
   "outputs": [],
   "source": [
    "comment1 = Comment(15, 97, 'Protore', \"I can relate to the wife's struggle to understand her partner's gaming hobby. My boyfriend is also an avid gamer, and I have never been into gaming. However, I have learned to appreciate the creativity, strategy, and social connections that gaming offers. It's great to see a supportive and open-minded attitude towards our partners' interests.\", created_utc + datetime.timedelta(hours=1))"
   ]
  },
  {
   "cell_type": "code",
   "execution_count": 1248,
   "id": "6aa95839",
   "metadata": {},
   "outputs": [],
   "source": [
    "comment2 = Comment(15, 98, 'EcoWarrior', \"I think it's fantastic that the husband has found a sense of fulfillment and community through streaming games. It's easy to dismiss gaming as a mindless and unproductive activity, but in reality, it requires skill, dedication, and teamwork. It's refreshing to see that the wife is supporting her husband's hobby and learning more about gaming culture.\", created_utc + datetime.timedelta(hours=2))"
   ]
  },
  {
   "cell_type": "code",
   "execution_count": 1249,
   "id": "64a291f3",
   "metadata": {},
   "outputs": [],
   "source": [
    "comment3 = Comment(15, 99, 'DivineConnection33', \"I'm glad the letter emphasizes the importance of supporting one's partner's interests, even if they may not be shared. It's easy to fall into the trap of dismissing our partners' hobbies as unimportant or silly, but in reality, they are an integral part of who they are. I hope more people can learn to appreciate and respect their partners' passions and pursuits.\", created_utc + datetime.timedelta(hours=3))"
   ]
  },
  {
   "cell_type": "code",
   "execution_count": 1250,
   "id": "9fbb86c4",
   "metadata": {},
   "outputs": [],
   "source": [
    "comments15 = comment1, comment2, comment3"
   ]
  },
  {
   "cell_type": "code",
   "execution_count": 1251,
   "id": "6a9a5c37",
   "metadata": {},
   "outputs": [],
   "source": [
    "post15 = Post(authorid=1, id=15, title=title, author=author, tags = tags, preview=preview, content=content, comments=comments15, created_utc = created_utc_15) "
   ]
  },
  {
   "cell_type": "code",
   "execution_count": null,
   "id": "32dad657",
   "metadata": {},
   "outputs": [],
   "source": []
  },
  {
   "cell_type": "code",
   "execution_count": null,
   "id": "3ee89d20",
   "metadata": {},
   "outputs": [],
   "source": []
  },
  {
   "cell_type": "code",
   "execution_count": 1252,
   "id": "90a7b478",
   "metadata": {},
   "outputs": [],
   "source": [
    "title = \"Moonbathing: Basking in the Lunar Glow\""
   ]
  },
  {
   "cell_type": "code",
   "execution_count": 1253,
   "id": "837aae05",
   "metadata": {},
   "outputs": [],
   "source": [
    "author = AnaAstra.name"
   ]
  },
  {
   "cell_type": "code",
   "execution_count": 1254,
   "id": "9754dbe7",
   "metadata": {},
   "outputs": [],
   "source": [
    "tags = [Spiritual.name, Astrology.name]"
   ]
  },
  {
   "cell_type": "code",
   "execution_count": 1255,
   "id": "daa4cb71",
   "metadata": {},
   "outputs": [],
   "source": [
    "posttags.append(PostTag(16, Spiritual.id))\n",
    "posttags.append(PostTag(16, Astrology.id))"
   ]
  },
  {
   "cell_type": "code",
   "execution_count": 1256,
   "id": "218751fb",
   "metadata": {},
   "outputs": [],
   "source": [
    "created_utc_16 = basetime - datetime.timedelta(days=17)"
   ]
  },
  {
   "cell_type": "code",
   "execution_count": 1257,
   "id": "5789ef62",
   "metadata": {},
   "outputs": [],
   "source": [
    "preview = \"Discover the magic of moonbathing, a rejuvenating practice trend that harnesses the soothing energy of the moon to promote relaxation, enhance intuition, and improve sleep. In this blog post, we explore the science behind moonbathing, its benefits, and how to create the perfect moonbathing experience. Unwind and bask in the lunar glow as you embark on a celestial journey to a calmer, more mindful you.\""
   ]
  },
  {
   "cell_type": "code",
   "execution_count": 1258,
   "id": "35515d0a",
   "metadata": {},
   "outputs": [],
   "source": [
    "content = '''\n",
    "Moonbathing, the new wellness trend taking the world by storm, is the practice of soaking up the moon's energy instead of the sun's. This nocturnal ritual is gaining popularity for its soothing effects on the mind, body, and soul. In this blog post, we will delve into the world of moonbathing, discuss its benefits, and provide tips on how to make the most of your moonbathing experience.\n",
    "\n",
    "The Science Behind Moonbathing\n",
    "\n",
    "The moon has always been a significant symbol in various cultures, representing cycles, intuition, and feminine energy. Moonbathing is based on the idea that just as the sun provides vital energy for life on Earth, the moon has its unique energetic influence. The moon's gravitational pull affects the tides and even impacts human behavior, with full moons being associated with heightened emotions and restlessness.\n",
    "\n",
    "Benefits of Moonbathing\n",
    "\n",
    "Improved Sleep: The soft, natural light of the moon may help regulate your circadian rhythm, making it easier to fall asleep and wake up feeling refreshed.\n",
    "\n",
    "Reduced Stress: Moonbathing can be a soothing and calming experience, helping to alleviate stress and anxiety by encouraging relaxation and mindfulness.\n",
    "\n",
    "Enhanced Intuition: The moon's energy is believed to heighten intuition and creativity, allowing you to tap into your inner wisdom and enhance self-awareness.\n",
    "\n",
    "Skin Benefits: Unlike the harsh UV rays of the sun, the gentle glow of the moon is said to have a rejuvenating effect on the skin without causing damage or premature aging.\n",
    "\n",
    "How to Moonbathe\n",
    "\n",
    "Choose the Right Time: The best time for moonbathing is during a full moon when the moon's energy is at its peak. Check the lunar calendar to plan your moonbathing session.\n",
    "\n",
    "Find a Suitable Location: Look for a safe and quiet outdoor space with clear visibility of the moon, such as a backyard, balcony, or rooftop. Make sure the area is free from artificial light sources that may interfere with the moon's natural glow.\n",
    "\n",
    "Set the Ambiance: Create a comfortable and serene atmosphere with soft cushions or a blanket to lie on. You can also light candles or incense to enhance the relaxing mood.\n",
    "\n",
    "Dress Appropriately: Wear light, breathable clothing or simply wrap yourself in a soft shawl to keep warm during your moonbathing session.\n",
    "\n",
    "Relax and Absorb the Energy: Lie down with your eyes closed, focusing on your breath and allowing yourself to become one with the moon's energy. Stay in this meditative state for at least 20-30 minutes to reap the full benefits of moonbathing.\n",
    "\n",
    "Ancient Roots and Rediscovery\n",
    "\n",
    "Historically, moonbathing has been an integral part of various ancient cultures, with roots in traditions such as Ayurveda, Chinese medicine, and indigenous rituals. The moon was considered a potent source of energy, and its phases played a crucial role in determining the best time for healing and spiritual practices.\n",
    "\n",
    "In recent years, the increasing interest in natural and holistic approaches to wellness has led to the rediscovery of this ancient practice. Modern-day practitioners have revived the tradition of moonbathing, integrating it with contemporary mindfulness techniques and promoting its potential benefits in a fast-paced, stress-filled world. As more people reconnect with the lunar cycles and seek ways to attune their lives to the rhythms of nature, moonbathing has emerged as an enchanting way to restore balance and find inner peace.\n",
    "\n",
    "Conclusion\n",
    "\n",
    "Moonbathing offers a unique and rejuvenating experience for those looking to connect with nature and find solace in the lunar energy. With its numerous benefits, it's no wonder moonbathing is becoming a popular self-care ritual among wellness enthusiasts. Give moonbathing a try during the next full moon, and experience the tranquility and healing energy of the lunar glow for yourself.\n",
    "'''"
   ]
  },
  {
   "cell_type": "code",
   "execution_count": 1259,
   "id": "98c1f536",
   "metadata": {},
   "outputs": [],
   "source": [
    "comment1 = Comment(16, 100, 'DreamWalker', \"I recently tried moonbathing during the last full moon, and it was such a calming and grounding experience! It really helped me unwind after a stressful week, and I even noticed an improvement in my sleep that night. I'll definitely be incorporating this practice into my self-care routine. Thanks for sharing this insightful blog post!\", created_utc + datetime.timedelta(hours=1))"
   ]
  },
  {
   "cell_type": "code",
   "execution_count": 1260,
   "id": "68bf3eff",
   "metadata": {},
   "outputs": [],
   "source": [
    "comment2 = Comment(16, 101, 'Stargazer', \"I've been curious about moonbathing for a while now, and your blog post provides a comprehensive guide for beginners like me. It's fascinating to learn about the ancient roots of this practice and how it's being rediscovered in modern times. I'm excited to give moonbathing a try during the next full moon and experience the benefits for myself!\", created_utc + datetime.timedelta(hours=1))"
   ]
  },
  {
   "cell_type": "code",
   "execution_count": 1261,
   "id": "67d658e2",
   "metadata": {},
   "outputs": [],
   "source": [
    "comments16 = comment1, comment2"
   ]
  },
  {
   "cell_type": "code",
   "execution_count": 1262,
   "id": "1368d6f9",
   "metadata": {},
   "outputs": [],
   "source": [
    "post16 = Post(authorid=7, id=16, title=title, author=author, tags = tags, preview=preview, content=content, comments=comments16, created_utc = created_utc_16) "
   ]
  },
  {
   "cell_type": "code",
   "execution_count": 1263,
   "id": "5fa4d808",
   "metadata": {},
   "outputs": [],
   "source": [
    "#MORE IDEAS:\n",
    "#DE-CLUTTERING ARTICLE"
   ]
  },
  {
   "cell_type": "code",
   "execution_count": 1264,
   "id": "afd6b20e",
   "metadata": {},
   "outputs": [
    {
     "data": {
      "text/plain": [
       "2"
      ]
     },
     "execution_count": 1264,
     "metadata": {},
     "output_type": "execute_result"
    }
   ],
   "source": [
    "len(post16.comments)"
   ]
  },
  {
   "cell_type": "code",
   "execution_count": null,
   "id": "1699ae3c",
   "metadata": {},
   "outputs": [],
   "source": []
  },
  {
   "cell_type": "code",
   "execution_count": 1265,
   "id": "81bace1d",
   "metadata": {},
   "outputs": [],
   "source": [
    "# comments must also be added to commentlists below"
   ]
  },
  {
   "cell_type": "code",
   "execution_count": 1266,
   "id": "7e4fa5a3",
   "metadata": {},
   "outputs": [],
   "source": [
    "posts = post1, post2, post3, post4, post5, post6, post7, post8, post9, post10, post11, post12, post13, post14, post15, post16"
   ]
  },
  {
   "cell_type": "code",
   "execution_count": 1267,
   "id": "1c349962",
   "metadata": {},
   "outputs": [
    {
     "name": "stdout",
     "output_type": "stream",
     "text": [
      "The Incredible Powers of Astral Projection: Unlocking the Secrets of the Universe, by Scott Dyker, 2023-03-27 00:00:00+00:00\n",
      "The Spiritual Power of Astral Projection: A Guide to Exploring the Astral Plane, by Amanda Debbing, 2023-03-26 00:00:00+00:00\n",
      "Exploring the World of Astral Projection with Darry Gonwire, a Specialist with State-Level Clients, by Amanda Debbing, 2023-03-25 00:00:00+00:00\n",
      "The Healing Power of Cleansing Energy Crystals: Separating Fact from Fiction, by Scott Dyker, 2023-03-24 00:00:00+00:00\n",
      "Cleansing Energy Crystals: How to Purify and Recharge Your Spiritual Tools, by Amanda Debbing, 2023-03-23 00:00:00+00:00\n",
      "The Many Benefits of Yoga: Why You Should Start Practicing Today, by Sarah Lane, 2023-03-22 00:00:00+00:00\n",
      "My Trip to Paris, by Sarah Lane, 2023-03-21 00:00:00+00:00\n",
      "Why I Switched to a Plant-Based Diet, by Sarah Lane, 2023-03-20 00:00:00+00:00\n",
      "10 Tips for a Productive Workday, by Mara Khan, 2023-03-19 00:00:00+00:00\n",
      "The subtle joys of Animal Crossing, by Mara Khan, 2023-03-18 00:00:00+00:00\n",
      "The Ultimate Guide to Becoming a Successful Dog Walker, by Dohn Joe, 2023-03-17 00:00:00+00:00\n",
      "Urban Gardening: Transforming Tiny Spaces into Lush Green Oases, by Jane Kawra, 2023-03-16 00:00:00+00:00\n",
      "The Intriguing World of Gemini: Celestial Twins and Legendary Geminis, by Ana Astra, 2023-03-15 00:00:00+00:00\n",
      "The Enigmatic World of Cancer: Celestial Crabs and Legendary Cancers, by Ana Astra, 2023-03-14 00:00:00+00:00\n",
      "How can I relate to my husband's gaming hobby?, by Sarah Lane, 2023-03-13 00:00:00+00:00\n",
      "Moonbathing: Basking in the Lunar Glow, by Ana Astra, 2023-03-12 00:00:00+00:00\n"
     ]
    }
   ],
   "source": [
    "for post in posts:\n",
    "    timestamp = post.created_utc\n",
    "    print(f'{post.title}, by {post.author}, {timestamp}')"
   ]
  },
  {
   "cell_type": "code",
   "execution_count": 1268,
   "id": "523e849c",
   "metadata": {},
   "outputs": [
    {
     "name": "stdout",
     "output_type": "stream",
     "text": [
      "The Incredible Powers of Astral Projection: Unlocking the Secrets of the Universe, by Scott Dyker, 1679875200\n",
      "The Spiritual Power of Astral Projection: A Guide to Exploring the Astral Plane, by Amanda Debbing, 1679788800\n",
      "Exploring the World of Astral Projection with Darry Gonwire, a Specialist with State-Level Clients, by Amanda Debbing, 1679702400\n",
      "The Healing Power of Cleansing Energy Crystals: Separating Fact from Fiction, by Scott Dyker, 1679616000\n",
      "Cleansing Energy Crystals: How to Purify and Recharge Your Spiritual Tools, by Amanda Debbing, 1679529600\n",
      "The Many Benefits of Yoga: Why You Should Start Practicing Today, by Sarah Lane, 1679443200\n",
      "My Trip to Paris, by Sarah Lane, 1679356800\n",
      "Why I Switched to a Plant-Based Diet, by Sarah Lane, 1679270400\n",
      "10 Tips for a Productive Workday, by Mara Khan, 1679184000\n",
      "The subtle joys of Animal Crossing, by Mara Khan, 1679097600\n",
      "The Ultimate Guide to Becoming a Successful Dog Walker, by Dohn Joe, 1679011200\n",
      "Urban Gardening: Transforming Tiny Spaces into Lush Green Oases, by Jane Kawra, 1678924800\n",
      "The Intriguing World of Gemini: Celestial Twins and Legendary Geminis, by Ana Astra, 1678838400\n",
      "The Enigmatic World of Cancer: Celestial Crabs and Legendary Cancers, by Ana Astra, 1678752000\n",
      "How can I relate to my husband's gaming hobby?, by Sarah Lane, 1678665600\n",
      "Moonbathing: Basking in the Lunar Glow, by Ana Astra, 1678579200\n"
     ]
    }
   ],
   "source": [
    "for post in posts:\n",
    "    post_json = post.to_dict()\n",
    "    print(f\"{post_json['title']}, by {post_json['author']}, {post_json['created_utc']}\")"
   ]
  },
  {
   "cell_type": "code",
   "execution_count": null,
   "id": "f4ee6e69",
   "metadata": {},
   "outputs": [],
   "source": []
  },
  {
   "cell_type": "code",
   "execution_count": 1269,
   "id": "3857916d",
   "metadata": {},
   "outputs": [],
   "source": [
    "#WRITE POSTS TO JSON"
   ]
  },
  {
   "cell_type": "code",
   "execution_count": 1270,
   "id": "b82cac4b",
   "metadata": {},
   "outputs": [],
   "source": [
    "with open(\"posts.json\", \"w\") as file:\n",
    "    json.dump([post.to_dict() for post in posts], file)"
   ]
  },
  {
   "cell_type": "code",
   "execution_count": 1271,
   "id": "e9f59248",
   "metadata": {},
   "outputs": [],
   "source": [
    "#WRITE COMMENTS TO JSON"
   ]
  },
  {
   "cell_type": "code",
   "execution_count": 1272,
   "id": "01aba12d",
   "metadata": {},
   "outputs": [],
   "source": [
    "commentlists = comments1, comments2, comments3, comments4, comments5, comments6, comments7, comments8, comments9, comments10, comments11, comments12, comments13, comments14, comments15, comments16"
   ]
  },
  {
   "cell_type": "code",
   "execution_count": 1273,
   "id": "085d0043",
   "metadata": {},
   "outputs": [],
   "source": [
    "allcomments = []\n",
    "for commentlist in commentlists:\n",
    "    allcomments.extend(commentlist)"
   ]
  },
  {
   "cell_type": "code",
   "execution_count": 1274,
   "id": "84aee59b",
   "metadata": {},
   "outputs": [],
   "source": [
    "with open(\"comments.json\", \"w\") as file:\n",
    "    json.dump([comment.to_dict() for comment in allcomments], file)"
   ]
  },
  {
   "cell_type": "code",
   "execution_count": null,
   "id": "ce76eafc",
   "metadata": {},
   "outputs": [],
   "source": []
  },
  {
   "cell_type": "code",
   "execution_count": null,
   "id": "42ee8fc1",
   "metadata": {},
   "outputs": [],
   "source": []
  },
  {
   "cell_type": "code",
   "execution_count": null,
   "id": "c340ad45",
   "metadata": {},
   "outputs": [],
   "source": []
  },
  {
   "cell_type": "code",
   "execution_count": 1275,
   "id": "014ba56e",
   "metadata": {},
   "outputs": [],
   "source": [
    "#Search function"
   ]
  },
  {
   "cell_type": "code",
   "execution_count": 1276,
   "id": "be87af23",
   "metadata": {},
   "outputs": [],
   "source": [
    "#Author only\n",
    "query1 = \"Sarah Lane\""
   ]
  },
  {
   "cell_type": "code",
   "execution_count": 1277,
   "id": "d35fd964",
   "metadata": {},
   "outputs": [],
   "source": [
    "#Author and tag\n",
    "query2 = \"Sarah Lane YOGA\""
   ]
  },
  {
   "cell_type": "code",
   "execution_count": 1278,
   "id": "b380aea9",
   "metadata": {},
   "outputs": [],
   "source": [
    "#Multiple authors\n",
    "query3 = \"Amanda Debbing Scott Dyker\""
   ]
  },
  {
   "cell_type": "code",
   "execution_count": 1279,
   "id": "8913880d",
   "metadata": {},
   "outputs": [],
   "source": [
    "#Tag Only\n",
    "query4 = \"SPIRITUAL\""
   ]
  },
  {
   "cell_type": "code",
   "execution_count": 1280,
   "id": "5931a5ff",
   "metadata": {},
   "outputs": [],
   "source": [
    "#Multiple Tags\n",
    "query4 = \"SPIRITUAL ASTROLOGY\""
   ]
  },
  {
   "cell_type": "code",
   "execution_count": 1281,
   "id": "1b0ac735",
   "metadata": {},
   "outputs": [],
   "source": [
    "query5 = \"\""
   ]
  },
  {
   "cell_type": "code",
   "execution_count": 1282,
   "id": "0eb48b49",
   "metadata": {},
   "outputs": [],
   "source": [
    "#Invalid tag\n",
    "query6 = \"HUNTING\""
   ]
  },
  {
   "cell_type": "code",
   "execution_count": 1283,
   "id": "9306ca44",
   "metadata": {},
   "outputs": [],
   "source": [
    "#Valid and Invalid tag\n",
    "query7 = \"HUNTING YOGA\""
   ]
  },
  {
   "cell_type": "code",
   "execution_count": 1284,
   "id": "8f361f47",
   "metadata": {},
   "outputs": [],
   "source": [
    "# Author, tag, author and tag, neither"
   ]
  },
  {
   "cell_type": "code",
   "execution_count": 1285,
   "id": "b56bbe63",
   "metadata": {},
   "outputs": [],
   "source": [
    "def post_search(querystring, postlist):\n",
    "    #Get all authors and tags\n",
    "    allauthors = set()\n",
    "    alltags = set()\n",
    "    for post in postlist:\n",
    "        allauthors.add(post.author)\n",
    "        for tag in post.tags:\n",
    "            alltags.add(tag)\n",
    "            \n",
    "    #Get the authors and tags being searched for\n",
    "    authorsearch = set()\n",
    "    tagsearch = set()\n",
    "    \n",
    "    for author in allauthors:\n",
    "        if(author in querystring):\n",
    "            authorsearch.add(author)\n",
    "            querystring = querystring.replace(author, '')\n",
    "    querytagtokens = querystring.split(' ')\n",
    "    \n",
    "    \n",
    "    for tag in alltags:\n",
    "        if(tag in querytagtokens):\n",
    "            tagsearch.add(tag)\n",
    "    \n",
    "    if((len(authorsearch) == 0) and (len(tagsearch) == 0)):\n",
    "        return []\n",
    "    \n",
    "    #print(f'authors: {authorsearch}')\n",
    "    #print(f'tags: {tagsearch}\\n')\n",
    "    \n",
    "    #Filter the posts down first by author, then by tag\n",
    "    filteredposts = set()\n",
    "    \n",
    "    if(len(authorsearch) > 0):\n",
    "        for post in posts:\n",
    "            if(post.author in authorsearch):\n",
    "                filteredposts.add(post)\n",
    "    else:\n",
    "        filteredposts = postlist\n",
    "    \n",
    "    if(len(tagsearch) > 0):\n",
    "        filteredposts = [post for post in filteredposts if set(post.tags).intersection(tagsearch)]\n",
    "        \n",
    "    return filteredposts"
   ]
  },
  {
   "cell_type": "code",
   "execution_count": 1286,
   "id": "d6e015b6",
   "metadata": {},
   "outputs": [
    {
     "name": "stdout",
     "output_type": "stream",
     "text": [
      "The Intriguing World of Gemini: Celestial Twins and Legendary Geminis, by Ana Astra\n",
      "The Enigmatic World of Cancer: Celestial Crabs and Legendary Cancers, by Ana Astra\n",
      "Moonbathing: Basking in the Lunar Glow, by Ana Astra\n"
     ]
    }
   ],
   "source": [
    "results = post_search('Ana Astra', posts)\n",
    "\n",
    "for post in results:\n",
    "    print(f'{post.title}, by {post.author}')"
   ]
  },
  {
   "cell_type": "code",
   "execution_count": null,
   "id": "29f3b566",
   "metadata": {},
   "outputs": [],
   "source": []
  },
  {
   "cell_type": "code",
   "execution_count": 1287,
   "id": "57499160",
   "metadata": {},
   "outputs": [],
   "source": [
    "#READ POSTS FROM JSON"
   ]
  },
  {
   "cell_type": "code",
   "execution_count": 1288,
   "id": "9ccd118c",
   "metadata": {},
   "outputs": [],
   "source": [
    "postfile = 'posts.json'"
   ]
  },
  {
   "cell_type": "code",
   "execution_count": 1289,
   "id": "4f7e990a",
   "metadata": {},
   "outputs": [],
   "source": [
    "#Read the data back\n",
    "with open(postfile, 'r') as file:\n",
    "    posts_data = json.load(file)"
   ]
  },
  {
   "cell_type": "code",
   "execution_count": 1290,
   "id": "447536c3",
   "metadata": {},
   "outputs": [],
   "source": [
    "# Convert the list of dictionaries back to Post and Comment objects\n",
    "posts = []\n",
    "for post_data in posts_data:\n",
    "    comments = [Comment(comment_data['postid'], comment_data['id'], comment_data['author'], comment_data['content'], comment_data['created_utc']) for comment_data in post_data['comments']]\n",
    "    post = Post(post_data['authorid'], post_data['id'], post_data['title'], post_data['author'], post_data['tags'], post_data['preview'], post_data['content'], comments, post_data['created_utc'])\n",
    "    posts.append(post)"
   ]
  },
  {
   "cell_type": "code",
   "execution_count": 1291,
   "id": "51635cac",
   "metadata": {},
   "outputs": [
    {
     "name": "stdout",
     "output_type": "stream",
     "text": [
      "The Incredible Powers of Astral Projection: Unlocking the Secrets of the Universe, by Scott Dyker, 1679875200\n",
      "The Spiritual Power of Astral Projection: A Guide to Exploring the Astral Plane, by Amanda Debbing, 1679788800\n",
      "Exploring the World of Astral Projection with Darry Gonwire, a Specialist with State-Level Clients, by Amanda Debbing, 1679702400\n",
      "The Healing Power of Cleansing Energy Crystals: Separating Fact from Fiction, by Scott Dyker, 1679616000\n",
      "Cleansing Energy Crystals: How to Purify and Recharge Your Spiritual Tools, by Amanda Debbing, 1679529600\n",
      "The Many Benefits of Yoga: Why You Should Start Practicing Today, by Sarah Lane, 1679443200\n",
      "My Trip to Paris, by Sarah Lane, 1679356800\n",
      "Why I Switched to a Plant-Based Diet, by Sarah Lane, 1679270400\n",
      "10 Tips for a Productive Workday, by Mara Khan, 1679184000\n",
      "The subtle joys of Animal Crossing, by Mara Khan, 1679097600\n",
      "The Ultimate Guide to Becoming a Successful Dog Walker, by Dohn Joe, 1679011200\n",
      "Urban Gardening: Transforming Tiny Spaces into Lush Green Oases, by Jane Kawra, 1678924800\n",
      "The Intriguing World of Gemini: Celestial Twins and Legendary Geminis, by Ana Astra, 1678838400\n",
      "The Enigmatic World of Cancer: Celestial Crabs and Legendary Cancers, by Ana Astra, 1678752000\n",
      "How can I relate to my husband's gaming hobby?, by Sarah Lane, 1678665600\n",
      "Moonbathing: Basking in the Lunar Glow, by Ana Astra, 1678579200\n"
     ]
    }
   ],
   "source": [
    "for post in posts:\n",
    "    timestamp = post.created_utc\n",
    "    print(f'{post.title}, by {post.author}, {timestamp}')"
   ]
  },
  {
   "cell_type": "code",
   "execution_count": null,
   "id": "ac87b9f8",
   "metadata": {},
   "outputs": [],
   "source": []
  },
  {
   "cell_type": "code",
   "execution_count": null,
   "id": "bd2632c2",
   "metadata": {},
   "outputs": [],
   "source": []
  },
  {
   "cell_type": "code",
   "execution_count": 1292,
   "id": "88de8102",
   "metadata": {},
   "outputs": [],
   "source": [
    "#READ COMMENTS FROM JSON\n",
    "commentsfile = 'comments.json'"
   ]
  },
  {
   "cell_type": "code",
   "execution_count": 1293,
   "id": "3f84395e",
   "metadata": {},
   "outputs": [],
   "source": [
    "#Read the data back\n",
    "with open(commentsfile, 'r') as file:\n",
    "    comments_data = json.load(file)"
   ]
  },
  {
   "cell_type": "code",
   "execution_count": 1294,
   "id": "e03871d6",
   "metadata": {},
   "outputs": [],
   "source": [
    "comments = [Comment(comment_data['postid'], comment_data['id'], comment_data['author'], comment_data['content'], comment_data['created_utc']) for comment_data in comments_data]"
   ]
  },
  {
   "cell_type": "code",
   "execution_count": 1295,
   "id": "b9b63f25",
   "metadata": {},
   "outputs": [
    {
     "name": "stdout",
     "output_type": "stream",
     "text": [
      "CosmicExplorer, This is such an intriguing topic! I've always been fascinated by the idea of astral projection and the possibility of accessing higher levels of consciousness. I can't wait to learn more about it!\n",
      "\n",
      "Stargazer, I've had a few experiences with astral projection myself, and it's definitely a powerful and transformative practice. It's amazing how much wisdom and knowledge can be accessed beyond the physical world. One story that comes to mind is that of a friend of mine who had a powerful astral experience while on a psychedelic substance. She described feeling like she was lifted out of her body and transported to another realm of existence. In this realm, she encountered entities that communicated with her telepathically and imparted to her a profound sense of interconnectedness and oneness with the universe. She felt as though she had been given access to knowledge and wisdom that she could not have accessed in her ordinary waking state.\n",
      "\n",
      "MysticMoon, I've been practicing astral projection for years, and it has completely transformed my life. It's opened up a whole new world of possibilities and helped me tap into my full potential.\n",
      "\n",
      "SpiritualSeeker, I love learning about different spiritual practices, and astral projection is definitely one of the most fascinating. It's amazing to think about the possibilities that exist beyond our physical reality.\n",
      "\n",
      "EtherealExplorer, I've always been curious about astral projection, but I've never tried it myself. This post has definitely inspired me to give it a try and see what I can learn!\n",
      "\n",
      "SoulJourneyer, The idea of connecting with other dimensions and realities through astral projection is truly mind-blowing. It's incredible to think about the infinite possibilities that exist beyond our physical world.\n",
      "\n",
      "MeditationMaster, I've found that practicing meditation can be a great way to prepare for astral projection. It helps to calm the mind and create a deeper connection with the spiritual realm.\n",
      "\n",
      "DivineGuidance, I believe that astral projection can be a powerful tool for receiving guidance and insight from the universe. It's like having a direct line to the divine!\n",
      "\n",
      "EnlightenedOne, I've had some incredible experiences with astral projection, and I truly believe that it has the potential to transform the world. Imagine what we could accomplish if more people were able to tap into their full potential!\n",
      "\n",
      "UniversalWisdom, The universe is full of infinite wisdom and knowledge, and astral projection is one of the most powerful tools we have for accessing it. I believe that everyone has the potential to connect with the higher realms and unlock their full potential.\n",
      "\n",
      "SpiritSeeker23, I've always been fascinated by the idea of astral projection, and this post has given me even more inspiration to explore this spiritual practice. Thank you for the detailed insights and guidance!\n",
      "\n",
      "MysticalDreamer88, This post has definitely piqued my interest in astral projection. I've never tried it before, but the idea of accessing a non-physical realm beyond the physical world sounds incredibly intriguing.\n",
      "\n",
      "CosmicExplorer, I've had a few experiences with astral projection myself, and I can definitely attest to its transformative power. It's amazing how much wisdom and knowledge can be gained from exploring the astral plane.\n",
      "\n",
      "EnlightenedOne, The concept of the astral plane has always fascinated me, and I believe that astral projection is a valuable tool for spiritual growth and development. This post has provided some great insights and techniques for exploring this mystical realm.\n",
      "\n",
      "InfiniteConsciousness, I appreciate the spiritual perspective on astral projection presented in this post. It's refreshing to see this practice discussed in a way that acknowledges its potential for spiritual growth and self-discovery.\n",
      "\n",
      "MysticalJourneyer, I've been practicing astral projection for years, and it's been one of the most transformative spiritual practices I've ever undertaken. This post provides a great overview of the practice for anyone who's interested in exploring it.\n",
      "\n",
      "HigherSelfExplorer, The idea of tapping into the collective consciousness through astral projection is fascinating. I've had a few experiences with this myself, and it's amazing how much wisdom and insight can be gained through this practice.\n",
      "\n",
      "DivineConnection33, This post has provided some great tips and guidance for inducing astral projection. I've been struggling to achieve it consistently, so I'm excited to try out some of these techniques and see if they work for me.\n",
      "\n",
      "AstralAdventurer, Thank you for providing such a comprehensive overview of astral projection. It's a powerful tool for exploring the mysteries of the universe, and I believe that everyone should have the opportunity to experience it.\n",
      "\n",
      "SoulJourneyer55, I've always been drawn to the mystical and spiritual aspects of life, and astral projection is no exception. This post has given me a renewed sense of inspiration to continue exploring this practice and its potential for spiritual growth.\n",
      "\n",
      "MysticalMindset, I've been practicing astral projection for years, and it's truly a transformative experience. It's amazing to be able to explore the astral plane and gain new insights into ourselves and the universe.\n",
      "\n",
      "LucidDreamer123, I've been interested in astral projection for a while now, but I haven't been able to induce it yet. Your tips on meditation and visualization exercises were really helpful, and I'm excited to try them out.\n",
      "\n",
      "SpiritualSeeker, I appreciate your cautionary words about the potential risks of astral projection. It's important to approach this practice with respect and awareness.\n",
      "\n",
      "CosmicExplorer, It's incredible to think that there's an entire plane of existence beyond our physical world. Astral projection is a powerful tool for exploring this realm and expanding our consciousness.\n",
      "\n",
      "DreamWalker, I've had a few spontaneous out-of-body experiences in the past, but I've never intentionally induced astral projection. Your insights have inspired me to give it a try.\n",
      "\n",
      "BeyondReality, The astral plane is a fascinating realm, and astral projection is a valuable tool for exploring its mysteries. Thanks for sharing your insights and experiences.\n",
      "\n",
      "EnlightenedExplorer, I've always been curious about astral projection, but I've been hesitant to try it. Your words of caution and advice have given me more confidence to explore this practice.\n",
      "\n",
      "MeditativeMind, Meditation is such an important tool for inducing astral projection. I've found that a daily meditation practice has helped me deepen my connection with myself and the universe, making it easier to enter into altered states of consciousness.\n",
      "\n",
      "UniversalVoyager, The universe is full of wonders, and astral projection is one of the most amazing experiences we can have. Your insights into this practice are greatly appreciated.\n",
      "\n",
      "SoulSearcher, Astral projection is a powerful tool for exploring the depths of our consciousness and the mysteries of the universe. Thank you for sharing your experiences and insights with us.\n",
      "\n",
      "CrystalHealer123, I couldn't agree more with the benefits of using cleansing energy crystals. I've personally experienced improved physical and emotional well-being by incorporating them into my daily routine.\n",
      "\n",
      "ScienceSkeptic, While I remain skeptical of the healing properties of crystals, I appreciate the detailed information provided in this post. It's important to consider both sides of the debate.\n",
      "\n",
      "SpiritualSeeker, I love using selenite in my meditation practice. It helps me to clear my mind and focus on my spiritual journey.\n",
      "\n",
      "Protore, Shungite has been a game-changer for me in terms of protecting myself from harmful EMF radiation. It's a must-have for anyone who spends a lot of time around electronic devices.\n",
      "\n",
      "MysticalMoon, Rose quartz is my go-to crystal for promoting self-love and emotional healing. It's such a beautiful and powerful gemstone.\n",
      "\n",
      "BeyondReality, I've been collecting crystals for years and have found them to be a wonderful addition to my spiritual practice. Each one has its own unique energy and properties.\n",
      "\n",
      "PositiveVibesOnly, Citrine is a great crystal for attracting abundance and positivity into your life. It's a must-have for anyone looking to manifest their dreams.\n",
      "\n",
      "AncientWisdom, It's amazing to think about how these crystals have been used for centuries by different cultures around the world. There must be something special about their healing properties.\n",
      "\n",
      "EnergyWorker, Black tourmaline is a staple in my energy work toolkit. It's a powerful grounding and protection crystal that I highly recommend to anyone doing energy healing.\n",
      "\n",
      "SoulSearcher, I love learning about new crystals and their properties. Thank you for providing such an informative post about these amazing gemstones.\n",
      "\n",
      "CrystalHealer123, I couldn't agree more! Cleansing and recharging your energy crystals is essential to maintain their powerful energy and connection to the universe.\n",
      "\n",
      "Moonchild_333, Thank you for sharing these methods! I always feel a deeper connection to my crystals after cleansing them with sage or placing them under the light of the full moon.\n",
      "\n",
      "SpiritualGoddess, This is a great reminder to take care of our crystals and treat them with the respect they deserve. They hold such powerful energy and can be an incredible tool for spiritual growth.\n",
      "\n",
      "MeditationMaster, I find that incorporating energy crystals into my meditation practice helps me to focus and deepen my connection to the universe. Cleansing and recharging them regularly ensures that I am working with their full potential.\n",
      "\n",
      "MysticalMoon, I love using crystals for healing, and it's so important to cleanse them between uses to ensure that they are working at their highest level. Thank you for sharing these tips!\n",
      "\n",
      "ChakraAligner, Each crystal has its own unique energy and vibration, and cleansing them helps to maintain their individual properties. This is such an important part of working with energy crystals!\n",
      "\n",
      "PositiveVibesOnly, I always feel such a sense of peace and calm when I hold a cleansed and recharged crystal in my hand. They truly are powerful tools for spiritual growth and transformation.\n",
      "\n",
      "WitchyVibes, I love incorporating crystals into my spellwork, and cleansing them with sage or placing them under the light of the full moon helps to amplify their energy and power.\n",
      "\n",
      "YogaWarrior, Thank you for sharing these tips! I love using crystals in my yoga practice, and taking the time to cleanse and recharge them ensures that I am working with their full potential.\n",
      "\n",
      "SoulSearcher, Fantastic tips! Thanks Amanda!\n",
      "\n",
      "YogaJunkie, As a dedicated yoga practitioner, I can attest to the transformative power of this ancient practice. It's amazing how much stronger, more flexible, and more centered I've become since starting yoga.\n",
      "\n",
      "MindfulMama, I love how yoga has helped me to be more present with my children and to appreciate the simple moments of joy in life. It's been a game-changer for my mental health and wellbeing.\n",
      "\n",
      "HealthyHippie, I appreciate how inclusive yoga can be, welcoming people of all ages, sizes, and fitness levels. It's truly a practice that can benefit everyone, regardless of their background or experience.\n",
      "\n",
      "SpiritualSeeker, For me, the spiritual aspect of yoga has been life-changing. It's helped me to connect with a deeper sense of purpose and meaning in life, and to feel more attuned to the world around me.\n",
      "\n",
      "FitnessFanatic, While I love the physical benefits of yoga, what I really appreciate is how it's helped me to cultivate greater self-awareness and self-compassion. It's a practice that helps me to feel more connected to myself and to others.\n",
      "\n",
      "WellnessWarrior, I've found that practicing yoga has helped me to manage chronic pain and inflammation in my body, which has been a game-changer for my overall health and wellbeing.\n",
      "\n",
      "ZenMaster, I appreciate how yoga emphasizes the importance of breathwork and meditation, which are both powerful tools for calming the mind and reducing stress. It's a practice that has helped me to cultivate greater peace and equanimity in my life.\n",
      "\n",
      "NatureNinja, Yoga has helped me to feel more connected to the natural world and to appreciate the beauty and wonder of the earth. It's a practice that helps me to feel more grounded and centered in my life.\n",
      "\n",
      "FitnessFrenzy, I love the variety of yoga styles and classes that are available, from gentle restorative yoga to more vigorous power yoga. It's a practice that can be adapted to suit different preferences and needs.\n",
      "\n",
      "MeditationManiac, Yoga and meditation go hand in hand, and I love how yoga has helped me to deepen my meditation practice and to cultivate greater mindfulness in my life.\n",
      "\n",
      "WorldTraveler, Wow, your trip to Paris sounds absolutely divine! As a seasoned traveler myself, I appreciate your sophisticated and cultured perspective on the city. I can't wait to visit Paris again and indulge in all its refined pleasures.\n",
      "\n",
      "BrokeBackpacker, I'm glad you enjoyed your luxurious trip to Paris, but as a budget traveler, I find your snooty attitude towards travel to be off-putting. Not everyone can afford to stay in fancy bistros and sip cappuccinos, you know.\n",
      "\n",
      "CultureVulture, The Louvre is undoubtedly a must-see attraction in Paris, but I'm surprised you didn't mention any of the city's other impressive museums, like the Musée d'Orsay or the Centre Pompidou. As a lover of all things cultural, I find your perspective to be a bit narrow.\n",
      "\n",
      "FoodieAdventurer, Your descriptions of the French cuisine in Paris are making my mouth water! I'm a huge fan of French onion soup and escargot, and I can't wait to indulge in those delicacies on my next trip to Paris.\n",
      "\n",
      "Historius, While I appreciate the beauty of the Eiffel Tower, I find it disappointing that you didn't mention any of the city's historic landmarks, like the Notre-Dame Cathedral or the Palace of Versailles. As a lover of history, those sites were the highlights of my trip to Paris.\n",
      "\n",
      "HipsterTraveler, As someone who likes to avoid tourist traps and discover hidden gems, I find your focus on the most popular attractions in Paris to be a bit cliché. Did you explore any of the city's up-and-coming neighborhoods or check out any of its underground art scenes?\n",
      "\n",
      "LuxuryLover, Your description of your exclusive bistro experience in the Latin Quarter sounds absolutely divine! I'm always on the lookout for the most luxurious dining experiences when I travel, and your post has definitely given me some inspiration.\n",
      "\n",
      "FlowerPower, While I appreciate the beauty of Paris's architecture, I find it concerning that you didn't mention any of the city's efforts to combat climate change or preserve its natural spaces. As a conscious traveler, I believe it's important to consider the environmental impact of our trips.\n",
      "\n",
      "ArtEnthusiast, I'm so glad you had the opportunity to explore the Louvre Museum, but I'm surprised you didn't mention any of the other art galleries or exhibitions in Paris. As someone who's interested in contemporary art, I found the Palais de Tokyo and the Fondation Louis Vuitton to be must-see sites.\n",
      "\n",
      "RomanticTraveler, Your descriptions of Paris's charming cafes and streets are making my heart flutter! I'm planning a romantic trip to Paris with my partner, and your post has given me some great ideas for romantic spots to visit.\n",
      "\n",
      "HawaiiLover, I respect your decision to switch to a plant-based diet, but I could never give up the taste and satisfaction of meat. As a carnivore, I feel that humans are designed to eat meat and that it's an important source of protein and other essential nutrients.\n",
      "\n",
      "AnimalRightsAreHumanRights, I'm so glad to see more people waking up to the ethical implications of consuming animal products. The meat and dairy industries are responsible for so much cruelty and suffering, and every person who switches to a plant-based diet is making a positive impact on the world.\n",
      "\n",
      "HealthNut, I appreciate your focus on the health benefits of a plant-based diet. As someone who's always looking for ways to optimize my health and wellbeing, I believe that a diet rich in whole, plant-based foods is one of the best things you can do for your body.\n",
      "\n",
      "InconvenientlyTrue, Your emphasis on the environmental impact of animal agriculture is spot on. We're facing a climate crisis, and reducing our consumption of meat and dairy products is one of the most effective ways to mitigate our impact on the planet. I applaud your decision to make a positive change for the environment.\n",
      "\n",
      "Flexitarian, I appreciate the principles behind a plant-based diet, but I find it difficult to give up meat entirely. As a flexitarian, I try to reduce my consumption of animal products as much as possible, but I also believe in balance and moderation. It's all about finding what works for you and your lifestyle.\n",
      "\n",
      "Overpower, These tips are great, but I think they're just the beginning. To really maximize productivity, you need to wake up early, work long hours, and push yourself to the limit. I believe in working hard and achieving big goals, no matter what it takes.\n",
      "\n",
      "LifeLore, As someone who struggles with work-life balance, I appreciate the emphasis on setting boundaries and taking breaks. It's so important to prioritize your mental and emotional wellbeing, even when you're trying to be productive.\n",
      "\n",
      "SkepticalSally, I'm not convinced that these tips will actually make me more productive. I've tried a lot of productivity hacks in the past, and I always seem to end up feeling burned out and stressed. Maybe productivity isn't the end-all-be-all of success.\n",
      "\n",
      "TaskMaster, Prioritizing tasks and staying organized are the keys to productivity, in my opinion. I love using tools like calendars and to-do lists to keep myself on track and ensure that I'm making progress towards my goals every day.\n",
      "\n",
      "HolyAdvocate, I'm so glad to see a focus on self-care and positive thinking in these tips. It's easy to get caught up in the hustle and bustle of work and forget to take care of yourself. By prioritizing self-care and staying positive, you can achieve a better work-life balance and be more productive in the long run.\n",
      "\n",
      "Overpower, Wow, I never thought I'd see the day when Animal Crossing and Animal Farm would intersect! It's definitely an interesting concept and I'm curious to see how Nintendo will handle it. I hope they stay true to the themes of Animal Farm and don't water it down too much for a family-friendly game.\n",
      "\n",
      "LifeLore, I'm not sure how I feel about this. Animal Farm is a powerful allegory and it seems like Nintendo is trivializing it by turning it into a cute game. On the other hand, if they manage to convey the message of equality and cooperation in a meaningful way, it could be a great way to introduce these ideas to a younger audience.\n",
      "\n",
      "HawaiiLover, I've always loved Animal Crossing and the idea of a society of animals working together sounds so charming. I'm excited to see how the game will explore the themes of governance and resource distribution. It's refreshing to see a game that's not all about competition and winning.\n",
      "\n",
      "MindfulMama, I'm a bit skeptical about the message of Animal Crossing: Revolution. While it's nice to imagine a world where everyone gets along, the reality is that there will always be power struggles and conflicts. I hope the game acknowledges this and doesn't present an overly idealized version of animal-led governance.\n",
      "\n",
      "CosmicExplorer, I think Animal Crossing: Revolution could be a great opportunity for parents to have meaningful conversations with their children about equality and cooperation. It's important for kids to learn about these concepts from a young age, and if the game can present them in a fun and engaging way, all the better!\n",
      "\n",
      "MindfulMama, Great post! I've been considering starting my own dog walking business, and this guide has given me the confidence to take the leap.\n",
      "\n",
      "PawsitiveVibes, Love the idea of offering additional services! It's a great way to stand out from the competition and provide even more value to clients.\n",
      "\n",
      "NatureNook, Attracting beneficial insects is a great tip for maintaining a healthy urban garden. I've noticed a significant improvement in my plants since I started planting flowers that attract bees and ladybugs.\n",
      "\n",
      "EcoWarrior, Incorporating edible plants into urban gardens is a game-changer! It's amazing to think that even in a city, we can grow our own fresh, organic produce.\n",
      "\n",
      "NatureNook, I love learning more about astrology and the zodiac signs! As a fellow Gemini, I definitely relate to the adaptability and quick wit traits mentioned. It's fascinating to see how these traits have manifested in famous Geminis throughout history.\n",
      "\n",
      "EcoWarrior, I had no idea that the name Gemini originated from the Latin word for twins! Learning about the mythological origins of the constellation is so interesting. It's amazing how the bond between Castor and Pollux has been represented through the stars for centuries.\n",
      "\n",
      "Dreamwalker, As a fan of Marilyn Monroe, it's great to see her included in the list of famous Geminis. Her adaptability and versatility as an actress definitely made her stand out. It's inspiring to see how her Gemini traits helped her become such an iconic figure in Hollywood.\n",
      "\n",
      "MeditativeMind, I'm always amazed by how accurate astrology can be in describing personality traits. Reading about the Gemini sign and the famous Geminis listed, it's clear how adaptable and versatile they can be. It makes me curious about the other signs and their corresponding traits!\n",
      "\n",
      "Protore, I've always been fascinated by the emotional depth of Cancers, and this article truly captured their essence. Learning about the famous Cancerians from history and how they've used their intuitive abilities to make a difference in the world was truly inspiring. As a Cancer myself, I feel a sense of pride in sharing these qualities with such remarkable individuals. Keep up the great work!\n",
      "\n",
      "EcoWarrior, As a Cancerian myself, I loved reading about these famous people who share my sign. It's inspiring to see how they've used their emotional intelligence to make a positive impact on the world.\n",
      "\n",
      "DreamWalker, I had no idea that the name 'Cancer' was derived from the Latin word for crab! It's fascinating to learn about the mythology behind the zodiac signs.\n",
      "\n",
      "Protore, I can relate to the wife's struggle to understand her partner's gaming hobby. My boyfriend is also an avid gamer, and I have never been into gaming. However, I have learned to appreciate the creativity, strategy, and social connections that gaming offers. It's great to see a supportive and open-minded attitude towards our partners' interests.\n",
      "\n",
      "EcoWarrior, I think it's fantastic that the husband has found a sense of fulfillment and community through streaming games. It's easy to dismiss gaming as a mindless and unproductive activity, but in reality, it requires skill, dedication, and teamwork. It's refreshing to see that the wife is supporting her husband's hobby and learning more about gaming culture.\n",
      "\n",
      "DivineConnection33, I'm glad the letter emphasizes the importance of supporting one's partner's interests, even if they may not be shared. It's easy to fall into the trap of dismissing our partners' hobbies as unimportant or silly, but in reality, they are an integral part of who they are. I hope more people can learn to appreciate and respect their partners' passions and pursuits.\n",
      "\n",
      "DreamWalker, I recently tried moonbathing during the last full moon, and it was such a calming and grounding experience! It really helped me unwind after a stressful week, and I even noticed an improvement in my sleep that night. I'll definitely be incorporating this practice into my self-care routine. Thanks for sharing this insightful blog post!\n",
      "\n",
      "Stargazer, I've been curious about moonbathing for a while now, and your blog post provides a comprehensive guide for beginners like me. It's fascinating to learn about the ancient roots of this practice and how it's being rediscovered in modern times. I'm excited to give moonbathing a try during the next full moon and experience the benefits for myself!\n",
      "\n"
     ]
    }
   ],
   "source": [
    "for comment in comments:\n",
    "    print(f'{comment.author}, {comment.content}\\n')"
   ]
  },
  {
   "cell_type": "code",
   "execution_count": null,
   "id": "20473f3d",
   "metadata": {},
   "outputs": [],
   "source": []
  },
  {
   "cell_type": "code",
   "execution_count": 1296,
   "id": "c657aced",
   "metadata": {},
   "outputs": [],
   "source": [
    "posttagsfile = 'posttags.json'"
   ]
  },
  {
   "cell_type": "code",
   "execution_count": 1297,
   "id": "3f7a6af4",
   "metadata": {},
   "outputs": [],
   "source": [
    "#Write POSTTAGS to JSON\n",
    "with open(posttagsfile, \"w\") as file:\n",
    "    json.dump([posttag.to_dict() for posttag in posttags], file)"
   ]
  },
  {
   "cell_type": "code",
   "execution_count": 1298,
   "id": "323b7195",
   "metadata": {},
   "outputs": [],
   "source": [
    "with open(posttagsfile, 'r') as file:\n",
    "    posttags_data = json.load(file)"
   ]
  },
  {
   "cell_type": "code",
   "execution_count": 1299,
   "id": "c98cea81",
   "metadata": {},
   "outputs": [],
   "source": [
    "posttagsjfromjson = [PostTag(posttag_data['postid'], posttag_data['tagid']) for posttag_data in posttags_data]"
   ]
  },
  {
   "cell_type": "code",
   "execution_count": null,
   "id": "f1b8fe71",
   "metadata": {},
   "outputs": [],
   "source": []
  }
 ],
 "metadata": {
  "kernelspec": {
   "display_name": "Python 3 (ipykernel)",
   "language": "python",
   "name": "python3"
  },
  "language_info": {
   "codemirror_mode": {
    "name": "ipython",
    "version": 3
   },
   "file_extension": ".py",
   "mimetype": "text/x-python",
   "name": "python",
   "nbconvert_exporter": "python",
   "pygments_lexer": "ipython3",
   "version": "3.9.13"
  }
 },
 "nbformat": 4,
 "nbformat_minor": 5
}
